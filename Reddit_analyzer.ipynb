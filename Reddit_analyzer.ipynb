{
 "cells": [
  {
   "cell_type": "markdown",
   "metadata": {},
   "source": [
    "## Subbredit analyzing \n",
    "\n",
    "This project intend to compare two subreddits in a especified period of time by an analytical and behavioral lens.\n",
    "\n",
    "### Metrics:\n",
    "These 5 metrics used to demostrate different aspects of posts in subreddits\n",
    "* ups: number of users who liked the post\n",
    "* user engagement ratio: This metric aims to demonsterate the ratio of people who likes a post compared to all subscribers of the subreddit\n",
    "* upvote ratio: ratio of ups to the all number of votes\n",
    "* number of comments\n",
    "* title length"
   ]
  },
  {
   "cell_type": "markdown",
   "metadata": {},
   "source": [
    "# Data Management"
   ]
  },
  {
   "cell_type": "code",
   "execution_count": 131,
   "metadata": {},
   "outputs": [],
   "source": [
    "import pandas as pd\n",
    "import numpy as np\n",
    "\n",
    "# Visualization\n",
    "import seaborn as sns\n",
    "import matplotlib.pyplot as plt\n",
    "%matplotlib inline\n",
    "from fitter import Fitter, get_common_distributions"
   ]
  },
  {
   "cell_type": "code",
   "execution_count": 129,
   "metadata": {},
   "outputs": [
    {
     "data": {
      "text/html": [
       "<div>\n",
       "<style scoped>\n",
       "    .dataframe tbody tr th:only-of-type {\n",
       "        vertical-align: middle;\n",
       "    }\n",
       "\n",
       "    .dataframe tbody tr th {\n",
       "        vertical-align: top;\n",
       "    }\n",
       "\n",
       "    .dataframe thead th {\n",
       "        text-align: right;\n",
       "    }\n",
       "</style>\n",
       "<table border=\"1\" class=\"dataframe\">\n",
       "  <thead>\n",
       "    <tr style=\"text-align: right;\">\n",
       "      <th></th>\n",
       "      <th>identifier</th>\n",
       "      <th>ups</th>\n",
       "      <th>User Engagement Ratio</th>\n",
       "      <th>upvote ratio</th>\n",
       "      <th>nummber of comments</th>\n",
       "      <th>title length</th>\n",
       "    </tr>\n",
       "  </thead>\n",
       "  <tbody>\n",
       "    <tr>\n",
       "      <th>0</th>\n",
       "      <td>t3_18mv7m7</td>\n",
       "      <td>5</td>\n",
       "      <td>0.003049</td>\n",
       "      <td>0.86</td>\n",
       "      <td>9</td>\n",
       "      <td>62</td>\n",
       "    </tr>\n",
       "    <tr>\n",
       "      <th>1</th>\n",
       "      <td>t3_18mc27r</td>\n",
       "      <td>30</td>\n",
       "      <td>0.018295</td>\n",
       "      <td>0.92</td>\n",
       "      <td>10</td>\n",
       "      <td>29</td>\n",
       "    </tr>\n",
       "    <tr>\n",
       "      <th>2</th>\n",
       "      <td>t3_18maoch</td>\n",
       "      <td>4</td>\n",
       "      <td>0.002439</td>\n",
       "      <td>0.83</td>\n",
       "      <td>4</td>\n",
       "      <td>76</td>\n",
       "    </tr>\n",
       "    <tr>\n",
       "      <th>3</th>\n",
       "      <td>t3_18m44vz</td>\n",
       "      <td>1</td>\n",
       "      <td>0.000610</td>\n",
       "      <td>1.00</td>\n",
       "      <td>0</td>\n",
       "      <td>61</td>\n",
       "    </tr>\n",
       "    <tr>\n",
       "      <th>4</th>\n",
       "      <td>t3_18m1c02</td>\n",
       "      <td>4</td>\n",
       "      <td>0.002439</td>\n",
       "      <td>0.76</td>\n",
       "      <td>12</td>\n",
       "      <td>115</td>\n",
       "    </tr>\n",
       "    <tr>\n",
       "      <th>...</th>\n",
       "      <td>...</td>\n",
       "      <td>...</td>\n",
       "      <td>...</td>\n",
       "      <td>...</td>\n",
       "      <td>...</td>\n",
       "      <td>...</td>\n",
       "    </tr>\n",
       "    <tr>\n",
       "      <th>363</th>\n",
       "      <td>t3_16qk5ao</td>\n",
       "      <td>25</td>\n",
       "      <td>0.015246</td>\n",
       "      <td>0.80</td>\n",
       "      <td>4</td>\n",
       "      <td>32</td>\n",
       "    </tr>\n",
       "    <tr>\n",
       "      <th>364</th>\n",
       "      <td>t3_16qemib</td>\n",
       "      <td>3</td>\n",
       "      <td>0.001830</td>\n",
       "      <td>1.00</td>\n",
       "      <td>2</td>\n",
       "      <td>42</td>\n",
       "    </tr>\n",
       "    <tr>\n",
       "      <th>365</th>\n",
       "      <td>t3_16qe3lx</td>\n",
       "      <td>3</td>\n",
       "      <td>0.001830</td>\n",
       "      <td>0.71</td>\n",
       "      <td>8</td>\n",
       "      <td>51</td>\n",
       "    </tr>\n",
       "    <tr>\n",
       "      <th>366</th>\n",
       "      <td>t3_16q9bvg</td>\n",
       "      <td>22</td>\n",
       "      <td>0.013417</td>\n",
       "      <td>0.92</td>\n",
       "      <td>23</td>\n",
       "      <td>23</td>\n",
       "    </tr>\n",
       "    <tr>\n",
       "      <th>367</th>\n",
       "      <td>t3_16q8us4</td>\n",
       "      <td>5</td>\n",
       "      <td>0.003049</td>\n",
       "      <td>0.78</td>\n",
       "      <td>10</td>\n",
       "      <td>34</td>\n",
       "    </tr>\n",
       "  </tbody>\n",
       "</table>\n",
       "<p>368 rows × 6 columns</p>\n",
       "</div>"
      ],
      "text/plain": [
       "     identifier  ups  User Engagement Ratio  upvote ratio  \\\n",
       "0    t3_18mv7m7    5               0.003049          0.86   \n",
       "1    t3_18mc27r   30               0.018295          0.92   \n",
       "2    t3_18maoch    4               0.002439          0.83   \n",
       "3    t3_18m44vz    1               0.000610          1.00   \n",
       "4    t3_18m1c02    4               0.002439          0.76   \n",
       "..          ...  ...                    ...           ...   \n",
       "363  t3_16qk5ao   25               0.015246          0.80   \n",
       "364  t3_16qemib    3               0.001830          1.00   \n",
       "365  t3_16qe3lx    3               0.001830          0.71   \n",
       "366  t3_16q9bvg   22               0.013417          0.92   \n",
       "367  t3_16q8us4    5               0.003049          0.78   \n",
       "\n",
       "     nummber of comments  title length  \n",
       "0                      9            62  \n",
       "1                     10            29  \n",
       "2                      4            76  \n",
       "3                      0            61  \n",
       "4                     12           115  \n",
       "..                   ...           ...  \n",
       "363                    4            32  \n",
       "364                    2            42  \n",
       "365                    8            51  \n",
       "366                   23            23  \n",
       "367                   10            34  \n",
       "\n",
       "[368 rows x 6 columns]"
      ]
     },
     "execution_count": 129,
     "metadata": {},
     "output_type": "execute_result"
    }
   ],
   "source": [
    "# read the collected csv file\n",
    "vim = pd.read_csv('./Datasets/vim.csv')\n",
    "# Somehow normalized the User Engagement Ratio, becasuse the range was too low\n",
    "vim['User Engagement Ratio'] = vim['User Engagement Ratio'] * (10**2)\n",
    "vim"
   ]
  },
  {
   "cell_type": "code",
   "execution_count": 85,
   "metadata": {},
   "outputs": [
    {
     "data": {
      "text/html": [
       "<div>\n",
       "<style scoped>\n",
       "    .dataframe tbody tr th:only-of-type {\n",
       "        vertical-align: middle;\n",
       "    }\n",
       "\n",
       "    .dataframe tbody tr th {\n",
       "        vertical-align: top;\n",
       "    }\n",
       "\n",
       "    .dataframe thead th {\n",
       "        text-align: right;\n",
       "    }\n",
       "</style>\n",
       "<table border=\"1\" class=\"dataframe\">\n",
       "  <thead>\n",
       "    <tr style=\"text-align: right;\">\n",
       "      <th></th>\n",
       "      <th>identifier</th>\n",
       "      <th>ups</th>\n",
       "      <th>User Engagement Ratio</th>\n",
       "      <th>upvote ratio</th>\n",
       "      <th>nummber of comments</th>\n",
       "      <th>title length</th>\n",
       "    </tr>\n",
       "  </thead>\n",
       "  <tbody>\n",
       "    <tr>\n",
       "      <th>0</th>\n",
       "      <td>t3_18n73mx</td>\n",
       "      <td>1</td>\n",
       "      <td>0.001464</td>\n",
       "      <td>0.60</td>\n",
       "      <td>7</td>\n",
       "      <td>35</td>\n",
       "    </tr>\n",
       "    <tr>\n",
       "      <th>1</th>\n",
       "      <td>t3_18n65l3</td>\n",
       "      <td>8</td>\n",
       "      <td>0.011713</td>\n",
       "      <td>0.83</td>\n",
       "      <td>35</td>\n",
       "      <td>69</td>\n",
       "    </tr>\n",
       "    <tr>\n",
       "      <th>2</th>\n",
       "      <td>t3_18n3qt0</td>\n",
       "      <td>3</td>\n",
       "      <td>0.004392</td>\n",
       "      <td>0.62</td>\n",
       "      <td>4</td>\n",
       "      <td>51</td>\n",
       "    </tr>\n",
       "    <tr>\n",
       "      <th>3</th>\n",
       "      <td>t3_18n3dam</td>\n",
       "      <td>1</td>\n",
       "      <td>0.001464</td>\n",
       "      <td>0.60</td>\n",
       "      <td>2</td>\n",
       "      <td>24</td>\n",
       "    </tr>\n",
       "    <tr>\n",
       "      <th>4</th>\n",
       "      <td>t3_18n2gyq</td>\n",
       "      <td>41</td>\n",
       "      <td>0.060028</td>\n",
       "      <td>0.93</td>\n",
       "      <td>6</td>\n",
       "      <td>37</td>\n",
       "    </tr>\n",
       "    <tr>\n",
       "      <th>...</th>\n",
       "      <td>...</td>\n",
       "      <td>...</td>\n",
       "      <td>...</td>\n",
       "      <td>...</td>\n",
       "      <td>...</td>\n",
       "      <td>...</td>\n",
       "    </tr>\n",
       "    <tr>\n",
       "      <th>946</th>\n",
       "      <td>t3_16q3j3u</td>\n",
       "      <td>17</td>\n",
       "      <td>0.024890</td>\n",
       "      <td>0.95</td>\n",
       "      <td>8</td>\n",
       "      <td>41</td>\n",
       "    </tr>\n",
       "    <tr>\n",
       "      <th>947</th>\n",
       "      <td>t3_16pze4a</td>\n",
       "      <td>5</td>\n",
       "      <td>0.007321</td>\n",
       "      <td>0.73</td>\n",
       "      <td>23</td>\n",
       "      <td>58</td>\n",
       "    </tr>\n",
       "    <tr>\n",
       "      <th>948</th>\n",
       "      <td>t3_16pxddk</td>\n",
       "      <td>3</td>\n",
       "      <td>0.004392</td>\n",
       "      <td>0.80</td>\n",
       "      <td>4</td>\n",
       "      <td>32</td>\n",
       "    </tr>\n",
       "    <tr>\n",
       "      <th>949</th>\n",
       "      <td>t3_16pwhr7</td>\n",
       "      <td>2</td>\n",
       "      <td>0.002928</td>\n",
       "      <td>0.75</td>\n",
       "      <td>8</td>\n",
       "      <td>41</td>\n",
       "    </tr>\n",
       "    <tr>\n",
       "      <th>950</th>\n",
       "      <td>t3_16pt61k</td>\n",
       "      <td>2</td>\n",
       "      <td>0.002928</td>\n",
       "      <td>0.67</td>\n",
       "      <td>2</td>\n",
       "      <td>35</td>\n",
       "    </tr>\n",
       "  </tbody>\n",
       "</table>\n",
       "<p>951 rows × 6 columns</p>\n",
       "</div>"
      ],
      "text/plain": [
       "     identifier  ups  User Engagement Ratio  upvote ratio  \\\n",
       "0    t3_18n73mx    1               0.001464          0.60   \n",
       "1    t3_18n65l3    8               0.011713          0.83   \n",
       "2    t3_18n3qt0    3               0.004392          0.62   \n",
       "3    t3_18n3dam    1               0.001464          0.60   \n",
       "4    t3_18n2gyq   41               0.060028          0.93   \n",
       "..          ...  ...                    ...           ...   \n",
       "946  t3_16q3j3u   17               0.024890          0.95   \n",
       "947  t3_16pze4a    5               0.007321          0.73   \n",
       "948  t3_16pxddk    3               0.004392          0.80   \n",
       "949  t3_16pwhr7    2               0.002928          0.75   \n",
       "950  t3_16pt61k    2               0.002928          0.67   \n",
       "\n",
       "     nummber of comments  title length  \n",
       "0                      7            35  \n",
       "1                     35            69  \n",
       "2                      4            51  \n",
       "3                      2            24  \n",
       "4                      6            37  \n",
       "..                   ...           ...  \n",
       "946                    8            41  \n",
       "947                   23            58  \n",
       "948                    4            32  \n",
       "949                    8            41  \n",
       "950                    2            35  \n",
       "\n",
       "[951 rows x 6 columns]"
      ]
     },
     "execution_count": 85,
     "metadata": {},
     "output_type": "execute_result"
    }
   ],
   "source": [
    "# read the collected csv file\n",
    "emacs = pd.read_csv('./Datasets/emacs.csv')\n",
    "# I somehow normalized the User Engagement Ratio, becasuse the range was too low\n",
    "emacs['User Engagement Ratio'] = emacs['User Engagement Ratio'] * (10**2)\n",
    "emacs"
   ]
  },
  {
   "cell_type": "markdown",
   "metadata": {},
   "source": [
    "# Distribution Analysis using plots\n",
    "\n",
    "Three different libraries will be used to demonsterate the distibution of our subreddits\n",
    "1. matplotlib: to create the histograms and density plots\n",
    "2. seaborn: to create box plots\n",
    "3. fitter: to create plots in order to find the best distribution fitted to the subreddit"
   ]
  },
  {
   "cell_type": "markdown",
   "metadata": {},
   "source": [
    "### Histogram"
   ]
  },
  {
   "cell_type": "markdown",
   "metadata": {},
   "source": [
    "Create histogram for all 5 metrics in the vim subreddit"
   ]
  },
  {
   "cell_type": "code",
   "execution_count": 114,
   "metadata": {},
   "outputs": [
    {
     "data": {
      "image/png": "[encoded data removed]",
      "text/plain": [
       "<Figure size 1440x1440 with 6 Axes>"
      ]
     },
     "metadata": {
      "needs_background": "light"
     },
     "output_type": "display_data"
    }
   ],
   "source": [
    "# Create histogram for all 5 metrics in the vim subreddit\n",
    "fig, ax = plt.subplots(nrows=2, ncols=3, figsize=(20, 20))\n",
    "i = 0\n",
    "j = 0\n",
    "for col in vim.columns[1:]:\n",
    "    if j == 3:\n",
    "        i += 1\n",
    "        j = 0\n",
    "    ax[i, j].set(title = col + ' Histogram', xlabel= col, ylabel=\"Number of posts\")\n",
    "    # display plot\n",
    "    ax[i, j].hist(vim[col], color = np.random.rand(3,))\n",
    "    j += 1"
   ]
  },
  {
   "cell_type": "markdown",
   "metadata": {},
   "source": [
    "Create histogram for all 5 metrics in the emacs subreddit"
   ]
  },
  {
   "cell_type": "code",
   "execution_count": 115,
   "metadata": {},
   "outputs": [
    {
     "data": {
      "image/png": "[encoded data removed]",
      "text/plain": [
       "<Figure size 1440x1440 with 6 Axes>"
      ]
     },
     "metadata": {
      "needs_background": "light"
     },
     "output_type": "display_data"
    }
   ],
   "source": [
    "# Create histogram\n",
    "fig, ax = plt.subplots(nrows=2, ncols=3, figsize=(20, 20))\n",
    "i = 0\n",
    "j = 0\n",
    "for col in emacs.columns[1:]:\n",
    "    if j == 3:\n",
    "        i += 1\n",
    "        j = 0\n",
    "    ax[i, j].set(title = col + ' Histogram', xlabel= col, ylabel=\"Number of people\")\n",
    "    # display plot\n",
    "    ax[i, j].hist(emacs[col], color = np.random.rand(3,))\n",
    "    j += 1"
   ]
  },
  {
   "cell_type": "markdown",
   "metadata": {},
   "source": [
    "#### Density Plot\n",
    "Create density plots to understand distributions, Modes, and Skewness of each subreddit"
   ]
  },
  {
   "cell_type": "code",
   "execution_count": 102,
   "metadata": {},
   "outputs": [
    {
     "data": {
      "image/png": "[encoded data removed]",
      "text/plain": [
       "<Figure size 432x288 with 1 Axes>"
      ]
     },
     "metadata": {
      "needs_background": "light"
     },
     "output_type": "display_data"
    },
    {
     "data": {
      "image/png": "[encoded data removed]",
      "text/plain": [
       "<Figure size 432x288 with 1 Axes>"
      ]
     },
     "metadata": {
      "needs_background": "light"
     },
     "output_type": "display_data"
    },
    {
     "data": {
      "image/png": "[encoded data removed]",
      "text/plain": [
       "<Figure size 432x288 with 1 Axes>"
      ]
     },
     "metadata": {
      "needs_background": "light"
     },
     "output_type": "display_data"
    },
    {
     "data": {
      "image/png": "[encoded data removed]",
      "text/plain": [
       "<Figure size 432x288 with 1 Axes>"
      ]
     },
     "metadata": {
      "needs_background": "light"
     },
     "output_type": "display_data"
    },
    {
     "data": {
      "image/png": "[encoded data removed]",
      "text/plain": [
       "<Figure size 432x288 with 1 Axes>"
      ]
     },
     "metadata": {
      "needs_background": "light"
     },
     "output_type": "display_data"
    }
   ],
   "source": [
    "# create density plot for vim subreddit\n",
    "for col in vim.columns[1:]:\n",
    "    vim[col].plot(kind='density',subplots=True, title = col)\n",
    "    # show plot\n",
    "    plt.show();"
   ]
  },
  {
   "cell_type": "code",
   "execution_count": 103,
   "metadata": {},
   "outputs": [
    {
     "data": {
      "image/png": "[encoded data removed]",
      "text/plain": [
       "<Figure size 432x288 with 1 Axes>"
      ]
     },
     "metadata": {
      "needs_background": "light"
     },
     "output_type": "display_data"
    },
    {
     "data": {
      "image/png": "[encoded data removed]",
      "text/plain": [
       "<Figure size 432x288 with 1 Axes>"
      ]
     },
     "metadata": {
      "needs_background": "light"
     },
     "output_type": "display_data"
    },
    {
     "data": {
      "image/png": "[encoded data removed]",
      "text/plain": [
       "<Figure size 432x288 with 1 Axes>"
      ]
     },
     "metadata": {
      "needs_background": "light"
     },
     "output_type": "display_data"
    },
    {
     "data": {
      "image/png": "[encoded data removed]",
      "text/plain": [
       "<Figure size 432x288 with 1 Axes>"
      ]
     },
     "metadata": {
      "needs_background": "light"
     },
     "output_type": "display_data"
    },
    {
     "data": {
      "image/png": "[encoded data removed]",
      "text/plain": [
       "<Figure size 432x288 with 1 Axes>"
      ]
     },
     "metadata": {
      "needs_background": "light"
     },
     "output_type": "display_data"
    }
   ],
   "source": [
    "# create density plot for emacs subreddit\n",
    "for col in emacs.columns[1:]:\n",
    "    vim[col].plot(kind='density',subplots=True, title = col)\n",
    "    plt.show();"
   ]
  },
  {
   "cell_type": "markdown",
   "metadata": {},
   "source": [
    "### Box Plot"
   ]
  },
  {
   "cell_type": "markdown",
   "metadata": {},
   "source": [
    "Create box plots by seaborn to findout about anomalies and distribution of our data. The best case that we can use this plot is for obtaining and removing outliers from our dataset."
   ]
  },
  {
   "cell_type": "code",
   "execution_count": 117,
   "metadata": {},
   "outputs": [
    {
     "data": {
      "image/png": "[encoded data removed]",
      "text/plain": [
       "<Figure size 432x288 with 1 Axes>"
      ]
     },
     "metadata": {
      "needs_background": "light"
     },
     "output_type": "display_data"
    },
    {
     "data": {
      "image/png": "[encoded data removed]",
      "text/plain": [
       "<Figure size 432x288 with 1 Axes>"
      ]
     },
     "metadata": {
      "needs_background": "light"
     },
     "output_type": "display_data"
    },
    {
     "data": {
      "image/png": "[encoded data removed]",
      "text/plain": [
       "<Figure size 432x288 with 1 Axes>"
      ]
     },
     "metadata": {
      "needs_background": "light"
     },
     "output_type": "display_data"
    },
    {
     "data": {
      "image/png": "[encoded data removed]",
      "text/plain": [
       "<Figure size 432x288 with 1 Axes>"
      ]
     },
     "metadata": {
      "needs_background": "light"
     },
     "output_type": "display_data"
    },
    {
     "data": {
      "image/png": "[encoded data removed]",
      "text/plain": [
       "<Figure size 432x288 with 1 Axes>"
      ]
     },
     "metadata": {
      "needs_background": "light"
     },
     "output_type": "display_data"
    }
   ],
   "source": [
    "# create box plot for vim\n",
    "for col in vim.columns[1:]:\n",
    "    sns.boxenplot(x = vim[col])\n",
    "    plt.show()"
   ]
  },
  {
   "cell_type": "code",
   "execution_count": 118,
   "metadata": {},
   "outputs": [
    {
     "data": {
      "image/png": "[encoded data removed]",
      "text/plain": [
       "<Figure size 432x288 with 1 Axes>"
      ]
     },
     "metadata": {
      "needs_background": "light"
     },
     "output_type": "display_data"
    },
    {
     "data": {
      "image/png": "[encoded data removed]",
      "text/plain": [
       "<Figure size 432x288 with 1 Axes>"
      ]
     },
     "metadata": {
      "needs_background": "light"
     },
     "output_type": "display_data"
    },
    {
     "data": {
      "image/png": "[encoded data removed]",
      "text/plain": [
       "<Figure size 432x288 with 1 Axes>"
      ]
     },
     "metadata": {
      "needs_background": "light"
     },
     "output_type": "display_data"
    },
    {
     "data": {
      "image/png": "[encoded data removed]",
      "text/plain": [
       "<Figure size 432x288 with 1 Axes>"
      ]
     },
     "metadata": {
      "needs_background": "light"
     },
     "output_type": "display_data"
    },
    {
     "data": {
      "image/png": "[encoded data removed]",
      "text/plain": [
       "<Figure size 432x288 with 1 Axes>"
      ]
     },
     "metadata": {
      "needs_background": "light"
     },
     "output_type": "display_data"
    }
   ],
   "source": [
    "# create box plot for emacs\n",
    "for col in emacs.columns[1:]:\n",
    "    sns.boxenplot(x = emacs[col])\n",
    "    plt.show()"
   ]
  },
  {
   "cell_type": "markdown",
   "metadata": {},
   "source": [
    "Fitter library is quite an unfamiliar library for data scientists. However, it is a valuable asset when it comes to detemination of data distribution.<br>\n",
    "If want to read more about this library use this link: https://fitter.readthedocs.io/en/latest/"
   ]
  },
  {
   "cell_type": "code",
   "execution_count": 111,
   "metadata": {},
   "outputs": [
    {
     "name": "stdout",
     "output_type": "stream",
     "text": [
      "\"ups\" fitting distribution is:\n"
     ]
    },
    {
     "data": {
      "text/html": [
       "\n",
       "            <div style=\"float: left; border: 1px solid black; width:500px\">\n",
       "              <div id=\"49bb0955-70bc-4707-a87f-a10b0a3f308d\" style=\"background-color:blue; width:0%\">&nbsp;</div>\n",
       "            </div>\n",
       "            <label id=\"11a76366-43a0-40c2-bea6-4a211896ad2c\" style=\"padding-left: 10px;\" text = \"\"/>\n",
       "            "
      ],
      "text/plain": [
       "<IPython.core.display.HTML object>"
      ]
     },
     "metadata": {},
     "output_type": "display_data"
    },
    {
     "data": {
      "application/javascript": "$('div#49bb0955-70bc-4707-a87f-a10b0a3f308d').width('10%')",
      "text/plain": [
       "<IPython.core.display.Javascript object>"
      ]
     },
     "metadata": {},
     "output_type": "display_data"
    },
    {
     "data": {
      "application/javascript": "$('div#49bb0955-70bc-4707-a87f-a10b0a3f308d').width('20%')",
      "text/plain": [
       "<IPython.core.display.Javascript object>"
      ]
     },
     "metadata": {},
     "output_type": "display_data"
    },
    {
     "data": {
      "application/javascript": "$('label#11a76366-43a0-40c2-bea6-4a211896ad2c').text('10% in 0.0 sec')",
      "text/plain": [
       "<IPython.core.display.Javascript object>"
      ]
     },
     "metadata": {},
     "output_type": "display_data"
    },
    {
     "data": {
      "application/javascript": "$('label#11a76366-43a0-40c2-bea6-4a211896ad2c').text('20% in 0.1 sec')",
      "text/plain": [
       "<IPython.core.display.Javascript object>"
      ]
     },
     "metadata": {},
     "output_type": "display_data"
    },
    {
     "data": {
      "application/javascript": "$('div#49bb0955-70bc-4707-a87f-a10b0a3f308d').width('40%')",
      "text/plain": [
       "<IPython.core.display.Javascript object>"
      ]
     },
     "metadata": {},
     "output_type": "display_data"
    },
    {
     "data": {
      "application/javascript": "$('div#49bb0955-70bc-4707-a87f-a10b0a3f308d').width('30%')",
      "text/plain": [
       "<IPython.core.display.Javascript object>"
      ]
     },
     "metadata": {},
     "output_type": "display_data"
    },
    {
     "data": {
      "application/javascript": "$('div#49bb0955-70bc-4707-a87f-a10b0a3f308d').width('50%')",
      "text/plain": [
       "<IPython.core.display.Javascript object>"
      ]
     },
     "metadata": {},
     "output_type": "display_data"
    },
    {
     "data": {
      "application/javascript": "$('label#11a76366-43a0-40c2-bea6-4a211896ad2c').text('40% in 0.2 sec')",
      "text/plain": [
       "<IPython.core.display.Javascript object>"
      ]
     },
     "metadata": {},
     "output_type": "display_data"
    },
    {
     "data": {
      "application/javascript": "$('label#11a76366-43a0-40c2-bea6-4a211896ad2c').text('50% in 0.2 sec')",
      "text/plain": [
       "<IPython.core.display.Javascript object>"
      ]
     },
     "metadata": {},
     "output_type": "display_data"
    },
    {
     "data": {
      "application/javascript": "$('label#11a76366-43a0-40c2-bea6-4a211896ad2c').text('30% in 0.2 sec')",
      "text/plain": [
       "<IPython.core.display.Javascript object>"
      ]
     },
     "metadata": {},
     "output_type": "display_data"
    },
    {
     "data": {
      "application/javascript": "$('div#49bb0955-70bc-4707-a87f-a10b0a3f308d').width('60%')",
      "text/plain": [
       "<IPython.core.display.Javascript object>"
      ]
     },
     "metadata": {},
     "output_type": "display_data"
    },
    {
     "data": {
      "application/javascript": "$('label#11a76366-43a0-40c2-bea6-4a211896ad2c').text('60% in 0.7 sec')",
      "text/plain": [
       "<IPython.core.display.Javascript object>"
      ]
     },
     "metadata": {},
     "output_type": "display_data"
    },
    {
     "data": {
      "application/javascript": "$('div#49bb0955-70bc-4707-a87f-a10b0a3f308d').width('70%')",
      "text/plain": [
       "<IPython.core.display.Javascript object>"
      ]
     },
     "metadata": {},
     "output_type": "display_data"
    },
    {
     "data": {
      "application/javascript": "$('label#11a76366-43a0-40c2-bea6-4a211896ad2c').text('70% in 0.8 sec')",
      "text/plain": [
       "<IPython.core.display.Javascript object>"
      ]
     },
     "metadata": {},
     "output_type": "display_data"
    },
    {
     "data": {
      "application/javascript": "$('div#49bb0955-70bc-4707-a87f-a10b0a3f308d').width('80%')",
      "text/plain": [
       "<IPython.core.display.Javascript object>"
      ]
     },
     "metadata": {},
     "output_type": "display_data"
    },
    {
     "data": {
      "application/javascript": "$('label#11a76366-43a0-40c2-bea6-4a211896ad2c').text('80% in 0.9 sec')",
      "text/plain": [
       "<IPython.core.display.Javascript object>"
      ]
     },
     "metadata": {},
     "output_type": "display_data"
    },
    {
     "data": {
      "application/javascript": "$('div#49bb0955-70bc-4707-a87f-a10b0a3f308d').width('90%')",
      "text/plain": [
       "<IPython.core.display.Javascript object>"
      ]
     },
     "metadata": {},
     "output_type": "display_data"
    },
    {
     "data": {
      "application/javascript": "$('label#11a76366-43a0-40c2-bea6-4a211896ad2c').text('90% in 1.3 sec')",
      "text/plain": [
       "<IPython.core.display.Javascript object>"
      ]
     },
     "metadata": {},
     "output_type": "display_data"
    },
    {
     "data": {
      "application/javascript": "$('div#49bb0955-70bc-4707-a87f-a10b0a3f308d').width('100%')",
      "text/plain": [
       "<IPython.core.display.Javascript object>"
      ]
     },
     "metadata": {},
     "output_type": "display_data"
    },
    {
     "data": {
      "application/javascript": "$('label#11a76366-43a0-40c2-bea6-4a211896ad2c').text('100% in 1.3 sec')",
      "text/plain": [
       "<IPython.core.display.Javascript object>"
      ]
     },
     "metadata": {},
     "output_type": "display_data"
    },
    {
     "data": {
      "image/png": "[encoded data removed]",
      "text/plain": [
       "<Figure size 432x288 with 1 Axes>"
      ]
     },
     "metadata": {
      "needs_background": "light"
     },
     "output_type": "display_data"
    },
    {
     "name": "stdout",
     "output_type": "stream",
     "text": [
      "Best: cauchy distribution\n",
      "\n",
      "\"User Engagement Ratio\" fitting distribution is:\n"
     ]
    },
    {
     "data": {
      "text/html": [
       "\n",
       "            <div style=\"float: left; border: 1px solid black; width:500px\">\n",
       "              <div id=\"f689012b-ad12-4784-8d58-fd9936cc4d53\" style=\"background-color:blue; width:0%\">&nbsp;</div>\n",
       "            </div>\n",
       "            <label id=\"6bcadaab-2388-4ca4-9f58-5c1022f2a774\" style=\"padding-left: 10px;\" text = \"\"/>\n",
       "            "
      ],
      "text/plain": [
       "<IPython.core.display.HTML object>"
      ]
     },
     "metadata": {},
     "output_type": "display_data"
    },
    {
     "data": {
      "application/javascript": "$('div#f689012b-ad12-4784-8d58-fd9936cc4d53').width('10%')",
      "text/plain": [
       "<IPython.core.display.Javascript object>"
      ]
     },
     "metadata": {},
     "output_type": "display_data"
    },
    {
     "data": {
      "application/javascript": "$('div#f689012b-ad12-4784-8d58-fd9936cc4d53').width('20%')",
      "text/plain": [
       "<IPython.core.display.Javascript object>"
      ]
     },
     "metadata": {},
     "output_type": "display_data"
    },
    {
     "data": {
      "application/javascript": "$('label#6bcadaab-2388-4ca4-9f58-5c1022f2a774').text('10% in 0.0 sec')",
      "text/plain": [
       "<IPython.core.display.Javascript object>"
      ]
     },
     "metadata": {},
     "output_type": "display_data"
    },
    {
     "data": {
      "application/javascript": "$('label#6bcadaab-2388-4ca4-9f58-5c1022f2a774').text('20% in 0.1 sec')",
      "text/plain": [
       "<IPython.core.display.Javascript object>"
      ]
     },
     "metadata": {},
     "output_type": "display_data"
    },
    {
     "data": {
      "application/javascript": "$('div#f689012b-ad12-4784-8d58-fd9936cc4d53').width('30%')",
      "text/plain": [
       "<IPython.core.display.Javascript object>"
      ]
     },
     "metadata": {},
     "output_type": "display_data"
    },
    {
     "data": {
      "application/javascript": "$('div#f689012b-ad12-4784-8d58-fd9936cc4d53').width('40%')",
      "text/plain": [
       "<IPython.core.display.Javascript object>"
      ]
     },
     "metadata": {},
     "output_type": "display_data"
    },
    {
     "data": {
      "application/javascript": "$('label#6bcadaab-2388-4ca4-9f58-5c1022f2a774').text('30% in 0.1 sec')",
      "text/plain": [
       "<IPython.core.display.Javascript object>"
      ]
     },
     "metadata": {},
     "output_type": "display_data"
    },
    {
     "data": {
      "application/javascript": "$('label#6bcadaab-2388-4ca4-9f58-5c1022f2a774').text('40% in 0.1 sec')",
      "text/plain": [
       "<IPython.core.display.Javascript object>"
      ]
     },
     "metadata": {},
     "output_type": "display_data"
    },
    {
     "data": {
      "application/javascript": "$('div#f689012b-ad12-4784-8d58-fd9936cc4d53').width('50%')",
      "text/plain": [
       "<IPython.core.display.Javascript object>"
      ]
     },
     "metadata": {},
     "output_type": "display_data"
    },
    {
     "data": {
      "application/javascript": "$('label#6bcadaab-2388-4ca4-9f58-5c1022f2a774').text('50% in 0.2 sec')",
      "text/plain": [
       "<IPython.core.display.Javascript object>"
      ]
     },
     "metadata": {},
     "output_type": "display_data"
    },
    {
     "data": {
      "application/javascript": "$('div#f689012b-ad12-4784-8d58-fd9936cc4d53').width('60%')",
      "text/plain": [
       "<IPython.core.display.Javascript object>"
      ]
     },
     "metadata": {},
     "output_type": "display_data"
    },
    {
     "data": {
      "application/javascript": "$('label#6bcadaab-2388-4ca4-9f58-5c1022f2a774').text('60% in 0.4 sec')",
      "text/plain": [
       "<IPython.core.display.Javascript object>"
      ]
     },
     "metadata": {},
     "output_type": "display_data"
    },
    {
     "data": {
      "application/javascript": "$('div#f689012b-ad12-4784-8d58-fd9936cc4d53').width('70%')",
      "text/plain": [
       "<IPython.core.display.Javascript object>"
      ]
     },
     "metadata": {},
     "output_type": "display_data"
    },
    {
     "data": {
      "application/javascript": "$('label#6bcadaab-2388-4ca4-9f58-5c1022f2a774').text('70% in 1.1 sec')",
      "text/plain": [
       "<IPython.core.display.Javascript object>"
      ]
     },
     "metadata": {},
     "output_type": "display_data"
    },
    {
     "data": {
      "application/javascript": "$('div#f689012b-ad12-4784-8d58-fd9936cc4d53').width('80%')",
      "text/plain": [
       "<IPython.core.display.Javascript object>"
      ]
     },
     "metadata": {},
     "output_type": "display_data"
    },
    {
     "data": {
      "application/javascript": "$('div#f689012b-ad12-4784-8d58-fd9936cc4d53').width('90%')",
      "text/plain": [
       "<IPython.core.display.Javascript object>"
      ]
     },
     "metadata": {},
     "output_type": "display_data"
    },
    {
     "data": {
      "application/javascript": "$('label#6bcadaab-2388-4ca4-9f58-5c1022f2a774').text('80% in 1.1 sec')",
      "text/plain": [
       "<IPython.core.display.Javascript object>"
      ]
     },
     "metadata": {},
     "output_type": "display_data"
    },
    {
     "data": {
      "application/javascript": "$('label#6bcadaab-2388-4ca4-9f58-5c1022f2a774').text('90% in 1.2 sec')",
      "text/plain": [
       "<IPython.core.display.Javascript object>"
      ]
     },
     "metadata": {},
     "output_type": "display_data"
    },
    {
     "data": {
      "application/javascript": "$('div#f689012b-ad12-4784-8d58-fd9936cc4d53').width('100%')",
      "text/plain": [
       "<IPython.core.display.Javascript object>"
      ]
     },
     "metadata": {},
     "output_type": "display_data"
    },
    {
     "data": {
      "application/javascript": "$('label#6bcadaab-2388-4ca4-9f58-5c1022f2a774').text('100% in 1.4 sec')",
      "text/plain": [
       "<IPython.core.display.Javascript object>"
      ]
     },
     "metadata": {},
     "output_type": "display_data"
    },
    {
     "data": {
      "image/png": "[encoded data removed]",
      "text/plain": [
       "<Figure size 432x288 with 1 Axes>"
      ]
     },
     "metadata": {
      "needs_background": "light"
     },
     "output_type": "display_data"
    },
    {
     "name": "stdout",
     "output_type": "stream",
     "text": [
      "Best: lognorm distribution\n",
      "\n",
      "\"upvote ratio\" fitting distribution is:\n"
     ]
    },
    {
     "data": {
      "text/html": [
       "\n",
       "            <div style=\"float: left; border: 1px solid black; width:500px\">\n",
       "              <div id=\"26b249b7-41c8-412e-b1ba-8ece0e3ac4ca\" style=\"background-color:blue; width:0%\">&nbsp;</div>\n",
       "            </div>\n",
       "            <label id=\"8671240b-96ca-4684-9e3f-a253d2b2f99f\" style=\"padding-left: 10px;\" text = \"\"/>\n",
       "            "
      ],
      "text/plain": [
       "<IPython.core.display.HTML object>"
      ]
     },
     "metadata": {},
     "output_type": "display_data"
    },
    {
     "data": {
      "application/javascript": "$('div#26b249b7-41c8-412e-b1ba-8ece0e3ac4ca').width('10%')",
      "text/plain": [
       "<IPython.core.display.Javascript object>"
      ]
     },
     "metadata": {},
     "output_type": "display_data"
    },
    {
     "data": {
      "application/javascript": "$('div#26b249b7-41c8-412e-b1ba-8ece0e3ac4ca').width('20%')",
      "text/plain": [
       "<IPython.core.display.Javascript object>"
      ]
     },
     "metadata": {},
     "output_type": "display_data"
    },
    {
     "data": {
      "application/javascript": "$('label#8671240b-96ca-4684-9e3f-a253d2b2f99f').text('10% in 0.1 sec')",
      "text/plain": [
       "<IPython.core.display.Javascript object>"
      ]
     },
     "metadata": {},
     "output_type": "display_data"
    },
    {
     "data": {
      "application/javascript": "$('label#8671240b-96ca-4684-9e3f-a253d2b2f99f').text('20% in 0.1 sec')",
      "text/plain": [
       "<IPython.core.display.Javascript object>"
      ]
     },
     "metadata": {},
     "output_type": "display_data"
    },
    {
     "data": {
      "application/javascript": "$('div#26b249b7-41c8-412e-b1ba-8ece0e3ac4ca').width('30%')",
      "text/plain": [
       "<IPython.core.display.Javascript object>"
      ]
     },
     "metadata": {},
     "output_type": "display_data"
    },
    {
     "data": {
      "application/javascript": "$('label#8671240b-96ca-4684-9e3f-a253d2b2f99f').text('30% in 0.2 sec')",
      "text/plain": [
       "<IPython.core.display.Javascript object>"
      ]
     },
     "metadata": {},
     "output_type": "display_data"
    },
    {
     "data": {
      "application/javascript": "$('div#26b249b7-41c8-412e-b1ba-8ece0e3ac4ca').width('40%')",
      "text/plain": [
       "<IPython.core.display.Javascript object>"
      ]
     },
     "metadata": {},
     "output_type": "display_data"
    },
    {
     "data": {
      "application/javascript": "$('div#26b249b7-41c8-412e-b1ba-8ece0e3ac4ca').width('50%')",
      "text/plain": [
       "<IPython.core.display.Javascript object>"
      ]
     },
     "metadata": {},
     "output_type": "display_data"
    },
    {
     "data": {
      "application/javascript": "$('label#8671240b-96ca-4684-9e3f-a253d2b2f99f').text('40% in 0.2 sec')",
      "text/plain": [
       "<IPython.core.display.Javascript object>"
      ]
     },
     "metadata": {},
     "output_type": "display_data"
    },
    {
     "data": {
      "application/javascript": "$('label#8671240b-96ca-4684-9e3f-a253d2b2f99f').text('50% in 0.3 sec')",
      "text/plain": [
       "<IPython.core.display.Javascript object>"
      ]
     },
     "metadata": {},
     "output_type": "display_data"
    },
    {
     "data": {
      "application/javascript": "$('div#26b249b7-41c8-412e-b1ba-8ece0e3ac4ca').width('60%')",
      "text/plain": [
       "<IPython.core.display.Javascript object>"
      ]
     },
     "metadata": {},
     "output_type": "display_data"
    },
    {
     "data": {
      "application/javascript": "$('label#8671240b-96ca-4684-9e3f-a253d2b2f99f').text('60% in 0.4 sec')",
      "text/plain": [
       "<IPython.core.display.Javascript object>"
      ]
     },
     "metadata": {},
     "output_type": "display_data"
    },
    {
     "data": {
      "application/javascript": "$('div#26b249b7-41c8-412e-b1ba-8ece0e3ac4ca').width('70%')",
      "text/plain": [
       "<IPython.core.display.Javascript object>"
      ]
     },
     "metadata": {},
     "output_type": "display_data"
    },
    {
     "data": {
      "application/javascript": "$('label#8671240b-96ca-4684-9e3f-a253d2b2f99f').text('70% in 0.9 sec')",
      "text/plain": [
       "<IPython.core.display.Javascript object>"
      ]
     },
     "metadata": {},
     "output_type": "display_data"
    },
    {
     "data": {
      "application/javascript": "$('div#26b249b7-41c8-412e-b1ba-8ece0e3ac4ca').width('80%')",
      "text/plain": [
       "<IPython.core.display.Javascript object>"
      ]
     },
     "metadata": {},
     "output_type": "display_data"
    },
    {
     "data": {
      "application/javascript": "$('label#8671240b-96ca-4684-9e3f-a253d2b2f99f').text('80% in 1.0 sec')",
      "text/plain": [
       "<IPython.core.display.Javascript object>"
      ]
     },
     "metadata": {},
     "output_type": "display_data"
    },
    {
     "data": {
      "application/javascript": "$('div#26b249b7-41c8-412e-b1ba-8ece0e3ac4ca').width('90%')",
      "text/plain": [
       "<IPython.core.display.Javascript object>"
      ]
     },
     "metadata": {},
     "output_type": "display_data"
    },
    {
     "data": {
      "application/javascript": "$('label#8671240b-96ca-4684-9e3f-a253d2b2f99f').text('90% in 1.3 sec')",
      "text/plain": [
       "<IPython.core.display.Javascript object>"
      ]
     },
     "metadata": {},
     "output_type": "display_data"
    },
    {
     "data": {
      "application/javascript": "$('div#26b249b7-41c8-412e-b1ba-8ece0e3ac4ca').width('100%')",
      "text/plain": [
       "<IPython.core.display.Javascript object>"
      ]
     },
     "metadata": {},
     "output_type": "display_data"
    },
    {
     "data": {
      "application/javascript": "$('label#8671240b-96ca-4684-9e3f-a253d2b2f99f').text('100% in 1.3 sec')",
      "text/plain": [
       "<IPython.core.display.Javascript object>"
      ]
     },
     "metadata": {},
     "output_type": "display_data"
    },
    {
     "data": {
      "image/png": "[encoded data removed]",
      "text/plain": [
       "<Figure size 432x288 with 1 Axes>"
      ]
     },
     "metadata": {
      "needs_background": "light"
     },
     "output_type": "display_data"
    },
    {
     "name": "stdout",
     "output_type": "stream",
     "text": [
      "Best: powerlaw distribution\n",
      "\n",
      "\"nummber of comments\" fitting distribution is:\n"
     ]
    },
    {
     "data": {
      "text/html": [
       "\n",
       "            <div style=\"float: left; border: 1px solid black; width:500px\">\n",
       "              <div id=\"abd34699-7363-4d00-9964-532b2491564d\" style=\"background-color:blue; width:0%\">&nbsp;</div>\n",
       "            </div>\n",
       "            <label id=\"271970b0-b475-4233-928c-51563b63f23d\" style=\"padding-left: 10px;\" text = \"\"/>\n",
       "            "
      ],
      "text/plain": [
       "<IPython.core.display.HTML object>"
      ]
     },
     "metadata": {},
     "output_type": "display_data"
    },
    {
     "data": {
      "application/javascript": "$('div#abd34699-7363-4d00-9964-532b2491564d').width('10%')",
      "text/plain": [
       "<IPython.core.display.Javascript object>"
      ]
     },
     "metadata": {},
     "output_type": "display_data"
    },
    {
     "data": {
      "application/javascript": "$('div#abd34699-7363-4d00-9964-532b2491564d').width('20%')",
      "text/plain": [
       "<IPython.core.display.Javascript object>"
      ]
     },
     "metadata": {},
     "output_type": "display_data"
    },
    {
     "data": {
      "application/javascript": "$('label#271970b0-b475-4233-928c-51563b63f23d').text('10% in 0.0 sec')",
      "text/plain": [
       "<IPython.core.display.Javascript object>"
      ]
     },
     "metadata": {},
     "output_type": "display_data"
    },
    {
     "data": {
      "application/javascript": "$('div#abd34699-7363-4d00-9964-532b2491564d').width('30%')",
      "text/plain": [
       "<IPython.core.display.Javascript object>"
      ]
     },
     "metadata": {},
     "output_type": "display_data"
    },
    {
     "data": {
      "application/javascript": "$('label#271970b0-b475-4233-928c-51563b63f23d').text('20% in 0.1 sec')",
      "text/plain": [
       "<IPython.core.display.Javascript object>"
      ]
     },
     "metadata": {},
     "output_type": "display_data"
    },
    {
     "data": {
      "application/javascript": "$('div#abd34699-7363-4d00-9964-532b2491564d').width('40%')",
      "text/plain": [
       "<IPython.core.display.Javascript object>"
      ]
     },
     "metadata": {},
     "output_type": "display_data"
    },
    {
     "data": {
      "application/javascript": "$('label#271970b0-b475-4233-928c-51563b63f23d').text('30% in 0.3 sec')",
      "text/plain": [
       "<IPython.core.display.Javascript object>"
      ]
     },
     "metadata": {},
     "output_type": "display_data"
    },
    {
     "data": {
      "application/javascript": "$('div#abd34699-7363-4d00-9964-532b2491564d').width('50%')",
      "text/plain": [
       "<IPython.core.display.Javascript object>"
      ]
     },
     "metadata": {},
     "output_type": "display_data"
    },
    {
     "data": {
      "application/javascript": "$('label#271970b0-b475-4233-928c-51563b63f23d').text('40% in 0.3 sec')",
      "text/plain": [
       "<IPython.core.display.Javascript object>"
      ]
     },
     "metadata": {},
     "output_type": "display_data"
    },
    {
     "data": {
      "application/javascript": "$('label#271970b0-b475-4233-928c-51563b63f23d').text('50% in 0.3 sec')",
      "text/plain": [
       "<IPython.core.display.Javascript object>"
      ]
     },
     "metadata": {},
     "output_type": "display_data"
    },
    {
     "data": {
      "application/javascript": "$('div#abd34699-7363-4d00-9964-532b2491564d').width('60%')",
      "text/plain": [
       "<IPython.core.display.Javascript object>"
      ]
     },
     "metadata": {},
     "output_type": "display_data"
    },
    {
     "data": {
      "application/javascript": "$('label#271970b0-b475-4233-928c-51563b63f23d').text('60% in 0.5 sec')",
      "text/plain": [
       "<IPython.core.display.Javascript object>"
      ]
     },
     "metadata": {},
     "output_type": "display_data"
    },
    {
     "data": {
      "application/javascript": "$('div#abd34699-7363-4d00-9964-532b2491564d').width('70%')",
      "text/plain": [
       "<IPython.core.display.Javascript object>"
      ]
     },
     "metadata": {},
     "output_type": "display_data"
    },
    {
     "data": {
      "application/javascript": "$('div#abd34699-7363-4d00-9964-532b2491564d').width('80%')",
      "text/plain": [
       "<IPython.core.display.Javascript object>"
      ]
     },
     "metadata": {},
     "output_type": "display_data"
    },
    {
     "data": {
      "application/javascript": "$('label#271970b0-b475-4233-928c-51563b63f23d').text('80% in 0.9 sec')",
      "text/plain": [
       "<IPython.core.display.Javascript object>"
      ]
     },
     "metadata": {},
     "output_type": "display_data"
    },
    {
     "data": {
      "application/javascript": "$('label#271970b0-b475-4233-928c-51563b63f23d').text('70% in 0.9 sec')",
      "text/plain": [
       "<IPython.core.display.Javascript object>"
      ]
     },
     "metadata": {},
     "output_type": "display_data"
    },
    {
     "data": {
      "application/javascript": "$('div#abd34699-7363-4d00-9964-532b2491564d').width('90%')",
      "text/plain": [
       "<IPython.core.display.Javascript object>"
      ]
     },
     "metadata": {},
     "output_type": "display_data"
    },
    {
     "data": {
      "application/javascript": "$('label#271970b0-b475-4233-928c-51563b63f23d').text('90% in 0.9 sec')",
      "text/plain": [
       "<IPython.core.display.Javascript object>"
      ]
     },
     "metadata": {},
     "output_type": "display_data"
    },
    {
     "data": {
      "application/javascript": "$('div#abd34699-7363-4d00-9964-532b2491564d').width('100%')",
      "text/plain": [
       "<IPython.core.display.Javascript object>"
      ]
     },
     "metadata": {},
     "output_type": "display_data"
    },
    {
     "data": {
      "application/javascript": "$('label#271970b0-b475-4233-928c-51563b63f23d').text('100% in 1.2 sec')",
      "text/plain": [
       "<IPython.core.display.Javascript object>"
      ]
     },
     "metadata": {},
     "output_type": "display_data"
    },
    {
     "data": {
      "image/png": "[encoded data removed]",
      "text/plain": [
       "<Figure size 432x288 with 1 Axes>"
      ]
     },
     "metadata": {
      "needs_background": "light"
     },
     "output_type": "display_data"
    },
    {
     "name": "stdout",
     "output_type": "stream",
     "text": [
      "Best: lognorm distribution\n",
      "\n",
      "\"title length\" fitting distribution is:\n"
     ]
    },
    {
     "data": {
      "text/html": [
       "\n",
       "            <div style=\"float: left; border: 1px solid black; width:500px\">\n",
       "              <div id=\"1956da1a-3deb-4d4d-8683-e953222346d3\" style=\"background-color:blue; width:0%\">&nbsp;</div>\n",
       "            </div>\n",
       "            <label id=\"b483bb20-bb35-4264-83ea-2e878aa41838\" style=\"padding-left: 10px;\" text = \"\"/>\n",
       "            "
      ],
      "text/plain": [
       "<IPython.core.display.HTML object>"
      ]
     },
     "metadata": {},
     "output_type": "display_data"
    },
    {
     "data": {
      "application/javascript": "$('div#1956da1a-3deb-4d4d-8683-e953222346d3').width('10%')",
      "text/plain": [
       "<IPython.core.display.Javascript object>"
      ]
     },
     "metadata": {},
     "output_type": "display_data"
    },
    {
     "data": {
      "application/javascript": "$('div#1956da1a-3deb-4d4d-8683-e953222346d3').width('20%')",
      "text/plain": [
       "<IPython.core.display.Javascript object>"
      ]
     },
     "metadata": {},
     "output_type": "display_data"
    },
    {
     "data": {
      "application/javascript": "$('label#b483bb20-bb35-4264-83ea-2e878aa41838').text('10% in 0.1 sec')",
      "text/plain": [
       "<IPython.core.display.Javascript object>"
      ]
     },
     "metadata": {},
     "output_type": "display_data"
    },
    {
     "data": {
      "application/javascript": "$('label#b483bb20-bb35-4264-83ea-2e878aa41838').text('20% in 0.1 sec')",
      "text/plain": [
       "<IPython.core.display.Javascript object>"
      ]
     },
     "metadata": {},
     "output_type": "display_data"
    },
    {
     "data": {
      "application/javascript": "$('div#1956da1a-3deb-4d4d-8683-e953222346d3').width('40%')",
      "text/plain": [
       "<IPython.core.display.Javascript object>"
      ]
     },
     "metadata": {},
     "output_type": "display_data"
    },
    {
     "data": {
      "application/javascript": "$('div#1956da1a-3deb-4d4d-8683-e953222346d3').width('30%')",
      "text/plain": [
       "<IPython.core.display.Javascript object>"
      ]
     },
     "metadata": {},
     "output_type": "display_data"
    },
    {
     "data": {
      "application/javascript": "$('label#b483bb20-bb35-4264-83ea-2e878aa41838').text('30% in 0.2 sec')",
      "text/plain": [
       "<IPython.core.display.Javascript object>"
      ]
     },
     "metadata": {},
     "output_type": "display_data"
    },
    {
     "data": {
      "application/javascript": "$('div#1956da1a-3deb-4d4d-8683-e953222346d3').width('50%')",
      "text/plain": [
       "<IPython.core.display.Javascript object>"
      ]
     },
     "metadata": {},
     "output_type": "display_data"
    },
    {
     "data": {
      "application/javascript": "$('label#b483bb20-bb35-4264-83ea-2e878aa41838').text('40% in 0.2 sec')",
      "text/plain": [
       "<IPython.core.display.Javascript object>"
      ]
     },
     "metadata": {},
     "output_type": "display_data"
    },
    {
     "data": {
      "application/javascript": "$('label#b483bb20-bb35-4264-83ea-2e878aa41838').text('50% in 0.3 sec')",
      "text/plain": [
       "<IPython.core.display.Javascript object>"
      ]
     },
     "metadata": {},
     "output_type": "display_data"
    },
    {
     "data": {
      "application/javascript": "$('div#1956da1a-3deb-4d4d-8683-e953222346d3').width('60%')",
      "text/plain": [
       "<IPython.core.display.Javascript object>"
      ]
     },
     "metadata": {},
     "output_type": "display_data"
    },
    {
     "data": {
      "application/javascript": "$('label#b483bb20-bb35-4264-83ea-2e878aa41838').text('60% in 0.6 sec')",
      "text/plain": [
       "<IPython.core.display.Javascript object>"
      ]
     },
     "metadata": {},
     "output_type": "display_data"
    },
    {
     "data": {
      "application/javascript": "$('div#1956da1a-3deb-4d4d-8683-e953222346d3').width('70%')",
      "text/plain": [
       "<IPython.core.display.Javascript object>"
      ]
     },
     "metadata": {},
     "output_type": "display_data"
    },
    {
     "data": {
      "application/javascript": "$('label#b483bb20-bb35-4264-83ea-2e878aa41838').text('70% in 0.9 sec')",
      "text/plain": [
       "<IPython.core.display.Javascript object>"
      ]
     },
     "metadata": {},
     "output_type": "display_data"
    },
    {
     "data": {
      "application/javascript": "$('div#1956da1a-3deb-4d4d-8683-e953222346d3').width('80%')",
      "text/plain": [
       "<IPython.core.display.Javascript object>"
      ]
     },
     "metadata": {},
     "output_type": "display_data"
    },
    {
     "data": {
      "application/javascript": "$('label#b483bb20-bb35-4264-83ea-2e878aa41838').text('80% in 1.0 sec')",
      "text/plain": [
       "<IPython.core.display.Javascript object>"
      ]
     },
     "metadata": {},
     "output_type": "display_data"
    },
    {
     "data": {
      "application/javascript": "$('div#1956da1a-3deb-4d4d-8683-e953222346d3').width('90%')",
      "text/plain": [
       "<IPython.core.display.Javascript object>"
      ]
     },
     "metadata": {},
     "output_type": "display_data"
    },
    {
     "data": {
      "application/javascript": "$('label#b483bb20-bb35-4264-83ea-2e878aa41838').text('90% in 1.1 sec')",
      "text/plain": [
       "<IPython.core.display.Javascript object>"
      ]
     },
     "metadata": {},
     "output_type": "display_data"
    },
    {
     "data": {
      "application/javascript": "$('div#1956da1a-3deb-4d4d-8683-e953222346d3').width('100%')",
      "text/plain": [
       "<IPython.core.display.Javascript object>"
      ]
     },
     "metadata": {},
     "output_type": "display_data"
    },
    {
     "data": {
      "application/javascript": "$('label#b483bb20-bb35-4264-83ea-2e878aa41838').text('100% in 1.2 sec')",
      "text/plain": [
       "<IPython.core.display.Javascript object>"
      ]
     },
     "metadata": {},
     "output_type": "display_data"
    },
    {
     "data": {
      "image/png": "[encoded data removed]",
      "text/plain": [
       "<Figure size 432x288 with 1 Axes>"
      ]
     },
     "metadata": {
      "needs_background": "light"
     },
     "output_type": "display_data"
    },
    {
     "name": "stdout",
     "output_type": "stream",
     "text": [
      "Best: gamma distribution\n",
      "\n"
     ]
    }
   ],
   "source": [
    "# set common distribution\n",
    "# you are able to manually set your desired distribution. [‘cauchy’, ‘chi2’, ‘expon’, ‘exponpow’, ‘gamma’, ‘lognorm’, ‘norm’, ‘powerlaw’, ‘rayleigh’, ‘uniform’] are the default common distributions.\n",
    "common_dist = get_common_distributions()\n",
    "dic = {'Name' : [],\n",
    "       'Distribution' : []}\n",
    "\n",
    "# Finding the best distribution for each metric\n",
    "for col in vim.columns[1:]:\n",
    "    print(f'\"{col}\" fitting distribution is:')\n",
    "    f = Fitter(vim[col],\n",
    "               distributions= common_dist,\n",
    "              )\n",
    "    f.fit(progress=True);\n",
    "    f.summary()\n",
    "    plt.show()\n",
    "    print('Best:', list(f.get_best(method = 'sumsquare_error').keys())[0], 'distribution\\n')"
   ]
  },
  {
   "cell_type": "code",
   "execution_count": 110,
   "metadata": {},
   "outputs": [
    {
     "name": "stdout",
     "output_type": "stream",
     "text": [
      "\"ups\" fitting distribution is:\n"
     ]
    },
    {
     "data": {
      "text/html": [
       "\n",
       "            <div style=\"float: left; border: 1px solid black; width:500px\">\n",
       "              <div id=\"ef7f8b35-d16e-40e6-a432-1696e52cef28\" style=\"background-color:blue; width:0%\">&nbsp;</div>\n",
       "            </div>\n",
       "            <label id=\"556e9c41-9420-4157-8995-3e0d47f7b9a8\" style=\"padding-left: 10px;\" text = \"\"/>\n",
       "            "
      ],
      "text/plain": [
       "<IPython.core.display.HTML object>"
      ]
     },
     "metadata": {},
     "output_type": "display_data"
    },
    {
     "data": {
      "application/javascript": "$('div#ef7f8b35-d16e-40e6-a432-1696e52cef28').width('20%')",
      "text/plain": [
       "<IPython.core.display.Javascript object>"
      ]
     },
     "metadata": {},
     "output_type": "display_data"
    },
    {
     "data": {
      "application/javascript": "$('div#ef7f8b35-d16e-40e6-a432-1696e52cef28').width('10%')",
      "text/plain": [
       "<IPython.core.display.Javascript object>"
      ]
     },
     "metadata": {},
     "output_type": "display_data"
    },
    {
     "data": {
      "application/javascript": "$('label#556e9c41-9420-4157-8995-3e0d47f7b9a8').text('20% in 0.0 sec')",
      "text/plain": [
       "<IPython.core.display.Javascript object>"
      ]
     },
     "metadata": {},
     "output_type": "display_data"
    },
    {
     "data": {
      "application/javascript": "$('label#556e9c41-9420-4157-8995-3e0d47f7b9a8').text('10% in 0.0 sec')",
      "text/plain": [
       "<IPython.core.display.Javascript object>"
      ]
     },
     "metadata": {},
     "output_type": "display_data"
    },
    {
     "data": {
      "application/javascript": "$('div#ef7f8b35-d16e-40e6-a432-1696e52cef28').width('30%')",
      "text/plain": [
       "<IPython.core.display.Javascript object>"
      ]
     },
     "metadata": {},
     "output_type": "display_data"
    },
    {
     "data": {
      "application/javascript": "$('label#556e9c41-9420-4157-8995-3e0d47f7b9a8').text('30% in 0.1 sec')",
      "text/plain": [
       "<IPython.core.display.Javascript object>"
      ]
     },
     "metadata": {},
     "output_type": "display_data"
    },
    {
     "data": {
      "application/javascript": "$('div#ef7f8b35-d16e-40e6-a432-1696e52cef28').width('40%')",
      "text/plain": [
       "<IPython.core.display.Javascript object>"
      ]
     },
     "metadata": {},
     "output_type": "display_data"
    },
    {
     "data": {
      "application/javascript": "$('label#556e9c41-9420-4157-8995-3e0d47f7b9a8').text('40% in 0.1 sec')",
      "text/plain": [
       "<IPython.core.display.Javascript object>"
      ]
     },
     "metadata": {},
     "output_type": "display_data"
    },
    {
     "data": {
      "application/javascript": "$('div#ef7f8b35-d16e-40e6-a432-1696e52cef28').width('50%')",
      "text/plain": [
       "<IPython.core.display.Javascript object>"
      ]
     },
     "metadata": {},
     "output_type": "display_data"
    },
    {
     "data": {
      "application/javascript": "$('label#556e9c41-9420-4157-8995-3e0d47f7b9a8').text('50% in 0.3 sec')",
      "text/plain": [
       "<IPython.core.display.Javascript object>"
      ]
     },
     "metadata": {},
     "output_type": "display_data"
    },
    {
     "data": {
      "application/javascript": "$('div#ef7f8b35-d16e-40e6-a432-1696e52cef28').width('60%')",
      "text/plain": [
       "<IPython.core.display.Javascript object>"
      ]
     },
     "metadata": {},
     "output_type": "display_data"
    },
    {
     "data": {
      "application/javascript": "$('label#556e9c41-9420-4157-8995-3e0d47f7b9a8').text('60% in 1.1 sec')",
      "text/plain": [
       "<IPython.core.display.Javascript object>"
      ]
     },
     "metadata": {},
     "output_type": "display_data"
    },
    {
     "data": {
      "application/javascript": "$('div#ef7f8b35-d16e-40e6-a432-1696e52cef28').width('70%')",
      "text/plain": [
       "<IPython.core.display.Javascript object>"
      ]
     },
     "metadata": {},
     "output_type": "display_data"
    },
    {
     "data": {
      "application/javascript": "$('label#556e9c41-9420-4157-8995-3e0d47f7b9a8').text('70% in 1.5 sec')",
      "text/plain": [
       "<IPython.core.display.Javascript object>"
      ]
     },
     "metadata": {},
     "output_type": "display_data"
    },
    {
     "data": {
      "application/javascript": "$('div#ef7f8b35-d16e-40e6-a432-1696e52cef28').width('80%')",
      "text/plain": [
       "<IPython.core.display.Javascript object>"
      ]
     },
     "metadata": {},
     "output_type": "display_data"
    },
    {
     "data": {
      "application/javascript": "$('label#556e9c41-9420-4157-8995-3e0d47f7b9a8').text('80% in 1.6 sec')",
      "text/plain": [
       "<IPython.core.display.Javascript object>"
      ]
     },
     "metadata": {},
     "output_type": "display_data"
    },
    {
     "data": {
      "application/javascript": "$('div#ef7f8b35-d16e-40e6-a432-1696e52cef28').width('90%')",
      "text/plain": [
       "<IPython.core.display.Javascript object>"
      ]
     },
     "metadata": {},
     "output_type": "display_data"
    },
    {
     "data": {
      "application/javascript": "$('label#556e9c41-9420-4157-8995-3e0d47f7b9a8').text('90% in 1.6 sec')",
      "text/plain": [
       "<IPython.core.display.Javascript object>"
      ]
     },
     "metadata": {},
     "output_type": "display_data"
    },
    {
     "data": {
      "application/javascript": "$('div#ef7f8b35-d16e-40e6-a432-1696e52cef28').width('100%')",
      "text/plain": [
       "<IPython.core.display.Javascript object>"
      ]
     },
     "metadata": {},
     "output_type": "display_data"
    },
    {
     "data": {
      "application/javascript": "$('label#556e9c41-9420-4157-8995-3e0d47f7b9a8').text('100% in 1.7 sec')",
      "text/plain": [
       "<IPython.core.display.Javascript object>"
      ]
     },
     "metadata": {},
     "output_type": "display_data"
    },
    {
     "data": {
      "image/png": "[encoded data removed]",
      "text/plain": [
       "<Figure size 432x288 with 1 Axes>"
      ]
     },
     "metadata": {
      "needs_background": "light"
     },
     "output_type": "display_data"
    },
    {
     "name": "stdout",
     "output_type": "stream",
     "text": [
      "Best: lognorm distribution\n",
      "\n",
      "\"User Engagement Ratio\" fitting distribution is:\n"
     ]
    },
    {
     "data": {
      "text/html": [
       "\n",
       "            <div style=\"float: left; border: 1px solid black; width:500px\">\n",
       "              <div id=\"6deff12f-c42e-4c47-be3d-3926faa8ef8d\" style=\"background-color:blue; width:0%\">&nbsp;</div>\n",
       "            </div>\n",
       "            <label id=\"c11b6697-157a-4e35-addd-75de06d345f6\" style=\"padding-left: 10px;\" text = \"\"/>\n",
       "            "
      ],
      "text/plain": [
       "<IPython.core.display.HTML object>"
      ]
     },
     "metadata": {},
     "output_type": "display_data"
    },
    {
     "data": {
      "application/javascript": "$('div#6deff12f-c42e-4c47-be3d-3926faa8ef8d').width('10%')",
      "text/plain": [
       "<IPython.core.display.Javascript object>"
      ]
     },
     "metadata": {},
     "output_type": "display_data"
    },
    {
     "data": {
      "application/javascript": "$('label#c11b6697-157a-4e35-addd-75de06d345f6').text('10% in 0.0 sec')",
      "text/plain": [
       "<IPython.core.display.Javascript object>"
      ]
     },
     "metadata": {},
     "output_type": "display_data"
    },
    {
     "data": {
      "application/javascript": "$('div#6deff12f-c42e-4c47-be3d-3926faa8ef8d').width('20%')",
      "text/plain": [
       "<IPython.core.display.Javascript object>"
      ]
     },
     "metadata": {},
     "output_type": "display_data"
    },
    {
     "data": {
      "application/javascript": "$('label#c11b6697-157a-4e35-addd-75de06d345f6').text('20% in 0.1 sec')",
      "text/plain": [
       "<IPython.core.display.Javascript object>"
      ]
     },
     "metadata": {},
     "output_type": "display_data"
    },
    {
     "data": {
      "application/javascript": "$('div#6deff12f-c42e-4c47-be3d-3926faa8ef8d').width('30%')",
      "text/plain": [
       "<IPython.core.display.Javascript object>"
      ]
     },
     "metadata": {},
     "output_type": "display_data"
    },
    {
     "data": {
      "application/javascript": "$('label#c11b6697-157a-4e35-addd-75de06d345f6').text('30% in 0.1 sec')",
      "text/plain": [
       "<IPython.core.display.Javascript object>"
      ]
     },
     "metadata": {},
     "output_type": "display_data"
    },
    {
     "data": {
      "application/javascript": "$('div#6deff12f-c42e-4c47-be3d-3926faa8ef8d').width('40%')",
      "text/plain": [
       "<IPython.core.display.Javascript object>"
      ]
     },
     "metadata": {},
     "output_type": "display_data"
    },
    {
     "data": {
      "application/javascript": "$('label#c11b6697-157a-4e35-addd-75de06d345f6').text('40% in 0.1 sec')",
      "text/plain": [
       "<IPython.core.display.Javascript object>"
      ]
     },
     "metadata": {},
     "output_type": "display_data"
    },
    {
     "data": {
      "application/javascript": "$('div#6deff12f-c42e-4c47-be3d-3926faa8ef8d').width('50%')",
      "text/plain": [
       "<IPython.core.display.Javascript object>"
      ]
     },
     "metadata": {},
     "output_type": "display_data"
    },
    {
     "data": {
      "application/javascript": "$('label#c11b6697-157a-4e35-addd-75de06d345f6').text('50% in 0.3 sec')",
      "text/plain": [
       "<IPython.core.display.Javascript object>"
      ]
     },
     "metadata": {},
     "output_type": "display_data"
    },
    {
     "data": {
      "application/javascript": "$('div#6deff12f-c42e-4c47-be3d-3926faa8ef8d').width('60%')",
      "text/plain": [
       "<IPython.core.display.Javascript object>"
      ]
     },
     "metadata": {},
     "output_type": "display_data"
    },
    {
     "data": {
      "application/javascript": "$('label#c11b6697-157a-4e35-addd-75de06d345f6').text('60% in 1.1 sec')",
      "text/plain": [
       "<IPython.core.display.Javascript object>"
      ]
     },
     "metadata": {},
     "output_type": "display_data"
    },
    {
     "data": {
      "application/javascript": "$('div#6deff12f-c42e-4c47-be3d-3926faa8ef8d').width('70%')",
      "text/plain": [
       "<IPython.core.display.Javascript object>"
      ]
     },
     "metadata": {},
     "output_type": "display_data"
    },
    {
     "data": {
      "application/javascript": "$('label#c11b6697-157a-4e35-addd-75de06d345f6').text('70% in 1.6 sec')",
      "text/plain": [
       "<IPython.core.display.Javascript object>"
      ]
     },
     "metadata": {},
     "output_type": "display_data"
    },
    {
     "data": {
      "application/javascript": "$('div#6deff12f-c42e-4c47-be3d-3926faa8ef8d').width('80%')",
      "text/plain": [
       "<IPython.core.display.Javascript object>"
      ]
     },
     "metadata": {},
     "output_type": "display_data"
    },
    {
     "data": {
      "application/javascript": "$('label#c11b6697-157a-4e35-addd-75de06d345f6').text('80% in 1.7 sec')",
      "text/plain": [
       "<IPython.core.display.Javascript object>"
      ]
     },
     "metadata": {},
     "output_type": "display_data"
    },
    {
     "data": {
      "application/javascript": "$('div#6deff12f-c42e-4c47-be3d-3926faa8ef8d').width('90%')",
      "text/plain": [
       "<IPython.core.display.Javascript object>"
      ]
     },
     "metadata": {},
     "output_type": "display_data"
    },
    {
     "data": {
      "application/javascript": "$('label#c11b6697-157a-4e35-addd-75de06d345f6').text('90% in 1.8 sec')",
      "text/plain": [
       "<IPython.core.display.Javascript object>"
      ]
     },
     "metadata": {},
     "output_type": "display_data"
    },
    {
     "data": {
      "application/javascript": "$('div#6deff12f-c42e-4c47-be3d-3926faa8ef8d').width('100%')",
      "text/plain": [
       "<IPython.core.display.Javascript object>"
      ]
     },
     "metadata": {},
     "output_type": "display_data"
    },
    {
     "data": {
      "application/javascript": "$('label#c11b6697-157a-4e35-addd-75de06d345f6').text('100% in 1.9 sec')",
      "text/plain": [
       "<IPython.core.display.Javascript object>"
      ]
     },
     "metadata": {},
     "output_type": "display_data"
    },
    {
     "data": {
      "image/png": "[encoded data removed]",
      "text/plain": [
       "<Figure size 432x288 with 1 Axes>"
      ]
     },
     "metadata": {
      "needs_background": "light"
     },
     "output_type": "display_data"
    },
    {
     "name": "stdout",
     "output_type": "stream",
     "text": [
      "Best: lognorm distribution\n",
      "\n",
      "\"upvote ratio\" fitting distribution is:\n"
     ]
    },
    {
     "data": {
      "text/html": [
       "\n",
       "            <div style=\"float: left; border: 1px solid black; width:500px\">\n",
       "              <div id=\"c1fb503b-667e-4a70-af68-f0a846d140ce\" style=\"background-color:blue; width:0%\">&nbsp;</div>\n",
       "            </div>\n",
       "            <label id=\"1eb77eae-1442-4816-b60e-3dcc3ae6d019\" style=\"padding-left: 10px;\" text = \"\"/>\n",
       "            "
      ],
      "text/plain": [
       "<IPython.core.display.HTML object>"
      ]
     },
     "metadata": {},
     "output_type": "display_data"
    },
    {
     "data": {
      "application/javascript": "$('div#c1fb503b-667e-4a70-af68-f0a846d140ce').width('10%')",
      "text/plain": [
       "<IPython.core.display.Javascript object>"
      ]
     },
     "metadata": {},
     "output_type": "display_data"
    },
    {
     "data": {
      "application/javascript": "$('div#c1fb503b-667e-4a70-af68-f0a846d140ce').width('20%')",
      "text/plain": [
       "<IPython.core.display.Javascript object>"
      ]
     },
     "metadata": {},
     "output_type": "display_data"
    },
    {
     "data": {
      "application/javascript": "$('label#1eb77eae-1442-4816-b60e-3dcc3ae6d019').text('20% in 0.0 sec')",
      "text/plain": [
       "<IPython.core.display.Javascript object>"
      ]
     },
     "metadata": {},
     "output_type": "display_data"
    },
    {
     "data": {
      "application/javascript": "$('label#1eb77eae-1442-4816-b60e-3dcc3ae6d019').text('10% in 0.0 sec')",
      "text/plain": [
       "<IPython.core.display.Javascript object>"
      ]
     },
     "metadata": {},
     "output_type": "display_data"
    },
    {
     "data": {
      "application/javascript": "$('div#c1fb503b-667e-4a70-af68-f0a846d140ce').width('30%')",
      "text/plain": [
       "<IPython.core.display.Javascript object>"
      ]
     },
     "metadata": {},
     "output_type": "display_data"
    },
    {
     "data": {
      "application/javascript": "$('div#c1fb503b-667e-4a70-af68-f0a846d140ce').width('40%')",
      "text/plain": [
       "<IPython.core.display.Javascript object>"
      ]
     },
     "metadata": {},
     "output_type": "display_data"
    },
    {
     "data": {
      "application/javascript": "$('label#1eb77eae-1442-4816-b60e-3dcc3ae6d019').text('30% in 0.1 sec')",
      "text/plain": [
       "<IPython.core.display.Javascript object>"
      ]
     },
     "metadata": {},
     "output_type": "display_data"
    },
    {
     "data": {
      "application/javascript": "$('label#1eb77eae-1442-4816-b60e-3dcc3ae6d019').text('40% in 0.1 sec')",
      "text/plain": [
       "<IPython.core.display.Javascript object>"
      ]
     },
     "metadata": {},
     "output_type": "display_data"
    },
    {
     "data": {
      "application/javascript": "$('div#c1fb503b-667e-4a70-af68-f0a846d140ce').width('50%')",
      "text/plain": [
       "<IPython.core.display.Javascript object>"
      ]
     },
     "metadata": {},
     "output_type": "display_data"
    },
    {
     "data": {
      "application/javascript": "$('label#1eb77eae-1442-4816-b60e-3dcc3ae6d019').text('50% in 0.3 sec')",
      "text/plain": [
       "<IPython.core.display.Javascript object>"
      ]
     },
     "metadata": {},
     "output_type": "display_data"
    },
    {
     "data": {
      "application/javascript": "$('div#c1fb503b-667e-4a70-af68-f0a846d140ce').width('60%')",
      "text/plain": [
       "<IPython.core.display.Javascript object>"
      ]
     },
     "metadata": {},
     "output_type": "display_data"
    },
    {
     "data": {
      "application/javascript": "$('label#1eb77eae-1442-4816-b60e-3dcc3ae6d019').text('60% in 0.7 sec')",
      "text/plain": [
       "<IPython.core.display.Javascript object>"
      ]
     },
     "metadata": {},
     "output_type": "display_data"
    },
    {
     "data": {
      "application/javascript": "$('div#c1fb503b-667e-4a70-af68-f0a846d140ce').width('70%')",
      "text/plain": [
       "<IPython.core.display.Javascript object>"
      ]
     },
     "metadata": {},
     "output_type": "display_data"
    },
    {
     "data": {
      "application/javascript": "$('label#1eb77eae-1442-4816-b60e-3dcc3ae6d019').text('70% in 1.0 sec')",
      "text/plain": [
       "<IPython.core.display.Javascript object>"
      ]
     },
     "metadata": {},
     "output_type": "display_data"
    },
    {
     "data": {
      "application/javascript": "$('div#c1fb503b-667e-4a70-af68-f0a846d140ce').width('80%')",
      "text/plain": [
       "<IPython.core.display.Javascript object>"
      ]
     },
     "metadata": {},
     "output_type": "display_data"
    },
    {
     "data": {
      "application/javascript": "$('label#1eb77eae-1442-4816-b60e-3dcc3ae6d019').text('80% in 1.1 sec')",
      "text/plain": [
       "<IPython.core.display.Javascript object>"
      ]
     },
     "metadata": {},
     "output_type": "display_data"
    },
    {
     "data": {
      "application/javascript": "$('div#c1fb503b-667e-4a70-af68-f0a846d140ce').width('90%')",
      "text/plain": [
       "<IPython.core.display.Javascript object>"
      ]
     },
     "metadata": {},
     "output_type": "display_data"
    },
    {
     "data": {
      "application/javascript": "$('label#1eb77eae-1442-4816-b60e-3dcc3ae6d019').text('90% in 1.2 sec')",
      "text/plain": [
       "<IPython.core.display.Javascript object>"
      ]
     },
     "metadata": {},
     "output_type": "display_data"
    },
    {
     "data": {
      "application/javascript": "$('div#c1fb503b-667e-4a70-af68-f0a846d140ce').width('100%')",
      "text/plain": [
       "<IPython.core.display.Javascript object>"
      ]
     },
     "metadata": {},
     "output_type": "display_data"
    },
    {
     "data": {
      "application/javascript": "$('label#1eb77eae-1442-4816-b60e-3dcc3ae6d019').text('100% in 1.3 sec')",
      "text/plain": [
       "<IPython.core.display.Javascript object>"
      ]
     },
     "metadata": {},
     "output_type": "display_data"
    },
    {
     "data": {
      "image/png": "[encoded data removed]",
      "text/plain": [
       "<Figure size 432x288 with 1 Axes>"
      ]
     },
     "metadata": {
      "needs_background": "light"
     },
     "output_type": "display_data"
    },
    {
     "name": "stdout",
     "output_type": "stream",
     "text": [
      "Best: powerlaw distribution\n",
      "\n",
      "\"nummber of comments\" fitting distribution is:\n"
     ]
    },
    {
     "data": {
      "text/html": [
       "\n",
       "            <div style=\"float: left; border: 1px solid black; width:500px\">\n",
       "              <div id=\"2b921944-390e-45f2-a66f-897b1f808e73\" style=\"background-color:blue; width:0%\">&nbsp;</div>\n",
       "            </div>\n",
       "            <label id=\"1cf22038-e6e0-401e-970c-445f5c007f09\" style=\"padding-left: 10px;\" text = \"\"/>\n",
       "            "
      ],
      "text/plain": [
       "<IPython.core.display.HTML object>"
      ]
     },
     "metadata": {},
     "output_type": "display_data"
    },
    {
     "data": {
      "application/javascript": "$('div#2b921944-390e-45f2-a66f-897b1f808e73').width('10%')",
      "text/plain": [
       "<IPython.core.display.Javascript object>"
      ]
     },
     "metadata": {},
     "output_type": "display_data"
    },
    {
     "data": {
      "application/javascript": "$('div#2b921944-390e-45f2-a66f-897b1f808e73').width('20%')",
      "text/plain": [
       "<IPython.core.display.Javascript object>"
      ]
     },
     "metadata": {},
     "output_type": "display_data"
    },
    {
     "data": {
      "application/javascript": "$('label#1cf22038-e6e0-401e-970c-445f5c007f09').text('10% in 0.0 sec')",
      "text/plain": [
       "<IPython.core.display.Javascript object>"
      ]
     },
     "metadata": {},
     "output_type": "display_data"
    },
    {
     "data": {
      "application/javascript": "$('label#1cf22038-e6e0-401e-970c-445f5c007f09').text('20% in 0.0 sec')",
      "text/plain": [
       "<IPython.core.display.Javascript object>"
      ]
     },
     "metadata": {},
     "output_type": "display_data"
    },
    {
     "data": {
      "application/javascript": "$('div#2b921944-390e-45f2-a66f-897b1f808e73').width('30%')",
      "text/plain": [
       "<IPython.core.display.Javascript object>"
      ]
     },
     "metadata": {},
     "output_type": "display_data"
    },
    {
     "data": {
      "application/javascript": "$('div#2b921944-390e-45f2-a66f-897b1f808e73').width('40%')",
      "text/plain": [
       "<IPython.core.display.Javascript object>"
      ]
     },
     "metadata": {},
     "output_type": "display_data"
    },
    {
     "data": {
      "application/javascript": "$('label#1cf22038-e6e0-401e-970c-445f5c007f09').text('30% in 0.0 sec')",
      "text/plain": [
       "<IPython.core.display.Javascript object>"
      ]
     },
     "metadata": {},
     "output_type": "display_data"
    },
    {
     "data": {
      "application/javascript": "$('label#1cf22038-e6e0-401e-970c-445f5c007f09').text('40% in 0.1 sec')",
      "text/plain": [
       "<IPython.core.display.Javascript object>"
      ]
     },
     "metadata": {},
     "output_type": "display_data"
    },
    {
     "data": {
      "application/javascript": "$('div#2b921944-390e-45f2-a66f-897b1f808e73').width('50%')",
      "text/plain": [
       "<IPython.core.display.Javascript object>"
      ]
     },
     "metadata": {},
     "output_type": "display_data"
    },
    {
     "data": {
      "application/javascript": "$('label#1cf22038-e6e0-401e-970c-445f5c007f09').text('50% in 0.3 sec')",
      "text/plain": [
       "<IPython.core.display.Javascript object>"
      ]
     },
     "metadata": {},
     "output_type": "display_data"
    },
    {
     "data": {
      "application/javascript": "$('div#2b921944-390e-45f2-a66f-897b1f808e73').width('60%')",
      "text/plain": [
       "<IPython.core.display.Javascript object>"
      ]
     },
     "metadata": {},
     "output_type": "display_data"
    },
    {
     "data": {
      "application/javascript": "$('label#1cf22038-e6e0-401e-970c-445f5c007f09').text('60% in 0.8 sec')",
      "text/plain": [
       "<IPython.core.display.Javascript object>"
      ]
     },
     "metadata": {},
     "output_type": "display_data"
    },
    {
     "data": {
      "application/javascript": "$('div#2b921944-390e-45f2-a66f-897b1f808e73').width('70%')",
      "text/plain": [
       "<IPython.core.display.Javascript object>"
      ]
     },
     "metadata": {},
     "output_type": "display_data"
    },
    {
     "data": {
      "application/javascript": "$('label#1cf22038-e6e0-401e-970c-445f5c007f09').text('70% in 1.4 sec')",
      "text/plain": [
       "<IPython.core.display.Javascript object>"
      ]
     },
     "metadata": {},
     "output_type": "display_data"
    },
    {
     "data": {
      "application/javascript": "$('div#2b921944-390e-45f2-a66f-897b1f808e73').width('80%')",
      "text/plain": [
       "<IPython.core.display.Javascript object>"
      ]
     },
     "metadata": {},
     "output_type": "display_data"
    },
    {
     "data": {
      "application/javascript": "$('label#1cf22038-e6e0-401e-970c-445f5c007f09').text('80% in 1.5 sec')",
      "text/plain": [
       "<IPython.core.display.Javascript object>"
      ]
     },
     "metadata": {},
     "output_type": "display_data"
    },
    {
     "data": {
      "application/javascript": "$('div#2b921944-390e-45f2-a66f-897b1f808e73').width('90%')",
      "text/plain": [
       "<IPython.core.display.Javascript object>"
      ]
     },
     "metadata": {},
     "output_type": "display_data"
    },
    {
     "data": {
      "application/javascript": "$('label#1cf22038-e6e0-401e-970c-445f5c007f09').text('90% in 1.5 sec')",
      "text/plain": [
       "<IPython.core.display.Javascript object>"
      ]
     },
     "metadata": {},
     "output_type": "display_data"
    },
    {
     "data": {
      "application/javascript": "$('div#2b921944-390e-45f2-a66f-897b1f808e73').width('100%')",
      "text/plain": [
       "<IPython.core.display.Javascript object>"
      ]
     },
     "metadata": {},
     "output_type": "display_data"
    },
    {
     "data": {
      "application/javascript": "$('label#1cf22038-e6e0-401e-970c-445f5c007f09').text('100% in 1.6 sec')",
      "text/plain": [
       "<IPython.core.display.Javascript object>"
      ]
     },
     "metadata": {},
     "output_type": "display_data"
    },
    {
     "data": {
      "image/png": "[encoded data removed]",
      "text/plain": [
       "<Figure size 432x288 with 1 Axes>"
      ]
     },
     "metadata": {
      "needs_background": "light"
     },
     "output_type": "display_data"
    },
    {
     "name": "stdout",
     "output_type": "stream",
     "text": [
      "Best: lognorm distribution\n",
      "\n",
      "\"title length\" fitting distribution is:\n"
     ]
    },
    {
     "data": {
      "text/html": [
       "\n",
       "            <div style=\"float: left; border: 1px solid black; width:500px\">\n",
       "              <div id=\"f5c2ef19-772b-4baf-8699-0ccac2f5a878\" style=\"background-color:blue; width:0%\">&nbsp;</div>\n",
       "            </div>\n",
       "            <label id=\"2fa42531-2f1c-477e-8962-43bb36a14ab1\" style=\"padding-left: 10px;\" text = \"\"/>\n",
       "            "
      ],
      "text/plain": [
       "<IPython.core.display.HTML object>"
      ]
     },
     "metadata": {},
     "output_type": "display_data"
    },
    {
     "data": {
      "application/javascript": "$('div#f5c2ef19-772b-4baf-8699-0ccac2f5a878').width('10%')",
      "text/plain": [
       "<IPython.core.display.Javascript object>"
      ]
     },
     "metadata": {},
     "output_type": "display_data"
    },
    {
     "data": {
      "application/javascript": "$('label#2fa42531-2f1c-477e-8962-43bb36a14ab1').text('10% in 0.0 sec')",
      "text/plain": [
       "<IPython.core.display.Javascript object>"
      ]
     },
     "metadata": {},
     "output_type": "display_data"
    },
    {
     "data": {
      "application/javascript": "$('div#f5c2ef19-772b-4baf-8699-0ccac2f5a878').width('20%')",
      "text/plain": [
       "<IPython.core.display.Javascript object>"
      ]
     },
     "metadata": {},
     "output_type": "display_data"
    },
    {
     "data": {
      "application/javascript": "$('label#2fa42531-2f1c-477e-8962-43bb36a14ab1').text('20% in 0.0 sec')",
      "text/plain": [
       "<IPython.core.display.Javascript object>"
      ]
     },
     "metadata": {},
     "output_type": "display_data"
    },
    {
     "data": {
      "application/javascript": "$('div#f5c2ef19-772b-4baf-8699-0ccac2f5a878').width('40%')",
      "text/plain": [
       "<IPython.core.display.Javascript object>"
      ]
     },
     "metadata": {},
     "output_type": "display_data"
    },
    {
     "data": {
      "application/javascript": "$('div#f5c2ef19-772b-4baf-8699-0ccac2f5a878').width('30%')",
      "text/plain": [
       "<IPython.core.display.Javascript object>"
      ]
     },
     "metadata": {},
     "output_type": "display_data"
    },
    {
     "data": {
      "application/javascript": "$('label#2fa42531-2f1c-477e-8962-43bb36a14ab1').text('30% in 0.1 sec')",
      "text/plain": [
       "<IPython.core.display.Javascript object>"
      ]
     },
     "metadata": {},
     "output_type": "display_data"
    },
    {
     "data": {
      "application/javascript": "$('label#2fa42531-2f1c-477e-8962-43bb36a14ab1').text('40% in 0.1 sec')",
      "text/plain": [
       "<IPython.core.display.Javascript object>"
      ]
     },
     "metadata": {},
     "output_type": "display_data"
    },
    {
     "data": {
      "application/javascript": "$('div#f5c2ef19-772b-4baf-8699-0ccac2f5a878').width('50%')",
      "text/plain": [
       "<IPython.core.display.Javascript object>"
      ]
     },
     "metadata": {},
     "output_type": "display_data"
    },
    {
     "data": {
      "application/javascript": "$('label#2fa42531-2f1c-477e-8962-43bb36a14ab1').text('50% in 0.4 sec')",
      "text/plain": [
       "<IPython.core.display.Javascript object>"
      ]
     },
     "metadata": {},
     "output_type": "display_data"
    },
    {
     "data": {
      "application/javascript": "$('div#f5c2ef19-772b-4baf-8699-0ccac2f5a878').width('60%')",
      "text/plain": [
       "<IPython.core.display.Javascript object>"
      ]
     },
     "metadata": {},
     "output_type": "display_data"
    },
    {
     "data": {
      "application/javascript": "$('label#2fa42531-2f1c-477e-8962-43bb36a14ab1').text('60% in 1.0 sec')",
      "text/plain": [
       "<IPython.core.display.Javascript object>"
      ]
     },
     "metadata": {},
     "output_type": "display_data"
    },
    {
     "data": {
      "application/javascript": "$('div#f5c2ef19-772b-4baf-8699-0ccac2f5a878').width('70%')",
      "text/plain": [
       "<IPython.core.display.Javascript object>"
      ]
     },
     "metadata": {},
     "output_type": "display_data"
    },
    {
     "data": {
      "application/javascript": "$('label#2fa42531-2f1c-477e-8962-43bb36a14ab1').text('70% in 1.2 sec')",
      "text/plain": [
       "<IPython.core.display.Javascript object>"
      ]
     },
     "metadata": {},
     "output_type": "display_data"
    },
    {
     "data": {
      "application/javascript": "$('div#f5c2ef19-772b-4baf-8699-0ccac2f5a878').width('80%')",
      "text/plain": [
       "<IPython.core.display.Javascript object>"
      ]
     },
     "metadata": {},
     "output_type": "display_data"
    },
    {
     "data": {
      "application/javascript": "$('label#2fa42531-2f1c-477e-8962-43bb36a14ab1').text('80% in 1.3 sec')",
      "text/plain": [
       "<IPython.core.display.Javascript object>"
      ]
     },
     "metadata": {},
     "output_type": "display_data"
    },
    {
     "data": {
      "application/javascript": "$('div#f5c2ef19-772b-4baf-8699-0ccac2f5a878').width('90%')",
      "text/plain": [
       "<IPython.core.display.Javascript object>"
      ]
     },
     "metadata": {},
     "output_type": "display_data"
    },
    {
     "data": {
      "application/javascript": "$('label#2fa42531-2f1c-477e-8962-43bb36a14ab1').text('90% in 1.4 sec')",
      "text/plain": [
       "<IPython.core.display.Javascript object>"
      ]
     },
     "metadata": {},
     "output_type": "display_data"
    },
    {
     "data": {
      "application/javascript": "$('div#f5c2ef19-772b-4baf-8699-0ccac2f5a878').width('100%')",
      "text/plain": [
       "<IPython.core.display.Javascript object>"
      ]
     },
     "metadata": {},
     "output_type": "display_data"
    },
    {
     "data": {
      "application/javascript": "$('label#2fa42531-2f1c-477e-8962-43bb36a14ab1').text('100% in 1.5 sec')",
      "text/plain": [
       "<IPython.core.display.Javascript object>"
      ]
     },
     "metadata": {},
     "output_type": "display_data"
    },
    {
     "data": {
      "image/png": "[encoded data removed]",
      "text/plain": [
       "<Figure size 432x288 with 1 Axes>"
      ]
     },
     "metadata": {
      "needs_background": "light"
     },
     "output_type": "display_data"
    },
    {
     "name": "stdout",
     "output_type": "stream",
     "text": [
      "Best: lognorm distribution\n",
      "\n"
     ]
    }
   ],
   "source": [
    "# Instructions and information as mentioned above\n",
    "common_dist = get_common_distributions()\n",
    "dic = {'Name' : [],\n",
    "       'Distribution' : []}\n",
    "for col in emacs.columns[1:]:\n",
    "    print(f'\"{col}\" fitting distribution is:')\n",
    "    f = Fitter(emacs[col],\n",
    "               distributions= common_dist,\n",
    "              )\n",
    "    f.fit(progress=True);\n",
    "    f.summary()\n",
    "    plt.show()\n",
    "    print('Best:', list(f.get_best(method = 'sumsquare_error').keys())[0], 'distribution\\n')"
   ]
  },
  {
   "cell_type": "markdown",
   "metadata": {},
   "source": [
    "# Behavioral Analysis"
   ]
  },
  {
   "cell_type": "markdown",
   "metadata": {},
   "source": [
    "### Correlation Matrix"
   ]
  },
  {
   "cell_type": "code",
   "execution_count": 107,
   "metadata": {},
   "outputs": [],
   "source": [
    "def correlation_matrix(df, size=15):\n",
    "    plt.figure(figsize=(size,size))\n",
    "    corrMatrix = emacs.corr()\n",
    "    sns.heatmap(corrMatrix, annot=True, fmt=\"5.2f\")\n",
    "    plt.show()"
   ]
  },
  {
   "cell_type": "code",
   "execution_count": 134,
   "metadata": {},
   "outputs": [
    {
     "data": {
      "image/png": "[encoded data removed]",
      "text/plain": [
       "<Figure size 1080x1080 with 2 Axes>"
      ]
     },
     "metadata": {
      "needs_background": "light"
     },
     "output_type": "display_data"
    }
   ],
   "source": [
    "# emacs correlation matrix\n",
    "correlation_matrix(emacs)\n"
   ]
  },
  {
   "cell_type": "code",
   "execution_count": 133,
   "metadata": {},
   "outputs": [
    {
     "data": {
      "image/png": "[encoded data removed]",
      "text/plain": [
       "<Figure size 1080x1080 with 2 Axes>"
      ]
     },
     "metadata": {
      "needs_background": "light"
     },
     "output_type": "display_data"
    }
   ],
   "source": [
    "# Vim Correlation Matrix\n",
    "correlation_matrix(vim)\n"
   ]
  },
  {
   "cell_type": "code",
   "execution_count": 160,
   "metadata": {},
   "outputs": [
    {
     "data": {
      "text/plain": [
       "'vim'"
      ]
     },
     "metadata": {},
     "output_type": "display_data"
    },
    {
     "name": "stderr",
     "output_type": "stream",
     "text": [
      "C:\\Users\\Lenovo\\AppData\\Local\\Temp\\ipykernel_14764\\3648642943.py:5: FutureWarning: Dropping of nuisance columns in DataFrame reductions (with 'numeric_only=None') is deprecated; in a future version this will raise TypeError.  Select only valid columns before calling the reduction.\n",
      "  stats_summary['Variance'] = emacs.var().round(2)\n"
     ]
    },
    {
     "data": {
      "text/html": [
       "<div>\n",
       "<style scoped>\n",
       "    .dataframe tbody tr th:only-of-type {\n",
       "        vertical-align: middle;\n",
       "    }\n",
       "\n",
       "    .dataframe tbody tr th {\n",
       "        vertical-align: top;\n",
       "    }\n",
       "\n",
       "    .dataframe thead th {\n",
       "        text-align: right;\n",
       "    }\n",
       "</style>\n",
       "<table border=\"1\" class=\"dataframe\">\n",
       "  <thead>\n",
       "    <tr style=\"text-align: right;\">\n",
       "      <th></th>\n",
       "      <th>Minimum</th>\n",
       "      <th>Maximum</th>\n",
       "      <th>Median</th>\n",
       "      <th>Mean</th>\n",
       "      <th>STD</th>\n",
       "      <th>Variance</th>\n",
       "    </tr>\n",
       "  </thead>\n",
       "  <tbody>\n",
       "    <tr>\n",
       "      <th>ups</th>\n",
       "      <td>0.0</td>\n",
       "      <td>539.00</td>\n",
       "      <td>4.00</td>\n",
       "      <td>15.96</td>\n",
       "      <td>45.23</td>\n",
       "      <td>495.31</td>\n",
       "    </tr>\n",
       "    <tr>\n",
       "      <th>User Engagement Ratio</th>\n",
       "      <td>0.0</td>\n",
       "      <td>0.33</td>\n",
       "      <td>0.00</td>\n",
       "      <td>0.01</td>\n",
       "      <td>0.03</td>\n",
       "      <td>0.00</td>\n",
       "    </tr>\n",
       "    <tr>\n",
       "      <th>upvote ratio</th>\n",
       "      <td>0.1</td>\n",
       "      <td>1.00</td>\n",
       "      <td>0.84</td>\n",
       "      <td>0.77</td>\n",
       "      <td>0.23</td>\n",
       "      <td>0.02</td>\n",
       "    </tr>\n",
       "    <tr>\n",
       "      <th>nummber of comments</th>\n",
       "      <td>0.0</td>\n",
       "      <td>154.00</td>\n",
       "      <td>8.00</td>\n",
       "      <td>13.47</td>\n",
       "      <td>19.26</td>\n",
       "      <td>277.89</td>\n",
       "    </tr>\n",
       "    <tr>\n",
       "      <th>title length</th>\n",
       "      <td>1.0</td>\n",
       "      <td>175.00</td>\n",
       "      <td>44.00</td>\n",
       "      <td>47.12</td>\n",
       "      <td>25.70</td>\n",
       "      <td>627.99</td>\n",
       "    </tr>\n",
       "  </tbody>\n",
       "</table>\n",
       "</div>"
      ],
      "text/plain": [
       "                       Minimum  Maximum  Median   Mean    STD  Variance\n",
       "ups                        0.0   539.00    4.00  15.96  45.23    495.31\n",
       "User Engagement Ratio      0.0     0.33    0.00   0.01   0.03      0.00\n",
       "upvote ratio               0.1     1.00    0.84   0.77   0.23      0.02\n",
       "nummber of comments        0.0   154.00    8.00  13.47  19.26    277.89\n",
       "title length               1.0   175.00   44.00  47.12  25.70    627.99"
      ]
     },
     "metadata": {},
     "output_type": "display_data"
    },
    {
     "data": {
      "text/plain": [
       "'emacs'"
      ]
     },
     "metadata": {},
     "output_type": "display_data"
    },
    {
     "name": "stderr",
     "output_type": "stream",
     "text": [
      "C:\\Users\\Lenovo\\AppData\\Local\\Temp\\ipykernel_14764\\3648642943.py:5: FutureWarning: Dropping of nuisance columns in DataFrame reductions (with 'numeric_only=None') is deprecated; in a future version this will raise TypeError.  Select only valid columns before calling the reduction.\n",
      "  stats_summary['Variance'] = emacs.var().round(2)\n"
     ]
    },
    {
     "data": {
      "text/html": [
       "<div>\n",
       "<style scoped>\n",
       "    .dataframe tbody tr th:only-of-type {\n",
       "        vertical-align: middle;\n",
       "    }\n",
       "\n",
       "    .dataframe tbody tr th {\n",
       "        vertical-align: top;\n",
       "    }\n",
       "\n",
       "    .dataframe thead th {\n",
       "        text-align: right;\n",
       "    }\n",
       "</style>\n",
       "<table border=\"1\" class=\"dataframe\">\n",
       "  <thead>\n",
       "    <tr style=\"text-align: right;\">\n",
       "      <th></th>\n",
       "      <th>Minimum</th>\n",
       "      <th>Maximum</th>\n",
       "      <th>Median</th>\n",
       "      <th>Mean</th>\n",
       "      <th>STD</th>\n",
       "      <th>Variance</th>\n",
       "    </tr>\n",
       "  </thead>\n",
       "  <tbody>\n",
       "    <tr>\n",
       "      <th>ups</th>\n",
       "      <td>0.00</td>\n",
       "      <td>260.00</td>\n",
       "      <td>5.00</td>\n",
       "      <td>12.24</td>\n",
       "      <td>22.26</td>\n",
       "      <td>495.31</td>\n",
       "    </tr>\n",
       "    <tr>\n",
       "      <th>User Engagement Ratio</th>\n",
       "      <td>0.00</td>\n",
       "      <td>0.38</td>\n",
       "      <td>0.01</td>\n",
       "      <td>0.02</td>\n",
       "      <td>0.03</td>\n",
       "      <td>0.00</td>\n",
       "    </tr>\n",
       "    <tr>\n",
       "      <th>upvote ratio</th>\n",
       "      <td>0.11</td>\n",
       "      <td>1.00</td>\n",
       "      <td>0.80</td>\n",
       "      <td>0.78</td>\n",
       "      <td>0.15</td>\n",
       "      <td>0.02</td>\n",
       "    </tr>\n",
       "    <tr>\n",
       "      <th>nummber of comments</th>\n",
       "      <td>0.00</td>\n",
       "      <td>182.00</td>\n",
       "      <td>6.00</td>\n",
       "      <td>10.50</td>\n",
       "      <td>16.67</td>\n",
       "      <td>277.89</td>\n",
       "    </tr>\n",
       "    <tr>\n",
       "      <th>title length</th>\n",
       "      <td>3.00</td>\n",
       "      <td>223.00</td>\n",
       "      <td>47.00</td>\n",
       "      <td>50.86</td>\n",
       "      <td>25.06</td>\n",
       "      <td>627.99</td>\n",
       "    </tr>\n",
       "  </tbody>\n",
       "</table>\n",
       "</div>"
      ],
      "text/plain": [
       "                       Minimum  Maximum  Median   Mean    STD  Variance\n",
       "ups                       0.00   260.00    5.00  12.24  22.26    495.31\n",
       "User Engagement Ratio     0.00     0.38    0.01   0.02   0.03      0.00\n",
       "upvote ratio              0.11     1.00    0.80   0.78   0.15      0.02\n",
       "nummber of comments       0.00   182.00    6.00  10.50  16.67    277.89\n",
       "title length              3.00   223.00   47.00  50.86  25.06    627.99"
      ]
     },
     "metadata": {},
     "output_type": "display_data"
    }
   ],
   "source": [
    "subreddits = [vim, emacs]\n",
    "for subreddit in subreddits:\n",
    "    display([name for name, value in globals().items() if value is subreddit][0])\n",
    "    stats_summary = subreddit.describe().transpose()[['min', 'max', '50%', 'mean', 'std']]\n",
    "    stats_summary['Variance'] = emacs.var().round(2)\n",
    "    stats_summary.columns = ['Minimum', 'Maximum', 'Median', 'Mean', 'STD', 'Variance']\n",
    "    stats_summary = stats_summary.round(2)\n",
    "    display(stats_summary)"
   ]
  },
  {
   "cell_type": "code",
   "execution_count": null,
   "metadata": {},
   "outputs": [],
   "source": []
  }
 ],
 "metadata": {
  "kernelspec": {
   "display_name": "Python 3",
   "language": "python",
   "name": "python3"
  },
  "language_info": {
   "codemirror_mode": {
    "name": "ipython",
    "version": 3
   },
   "file_extension": ".py",
   "mimetype": "text/x-python",
   "name": "python",
   "nbconvert_exporter": "python",
   "pygments_lexer": "ipython3",
   "version": "3.8.6"
  }
 },
 "nbformat": 4,
 "nbformat_minor": 2
}
